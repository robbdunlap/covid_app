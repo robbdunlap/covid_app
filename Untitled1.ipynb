{
 "cells": [
  {
   "cell_type": "code",
   "execution_count": 161,
   "metadata": {},
   "outputs": [],
   "source": [
    "import pandas as pd\n",
    "import numpy as np\n",
    "import matplotlib.pyplot as plt\n",
    "from sklearn import linear_model\n",
    "import statsmodels.api as sm"
   ]
  },
  {
   "cell_type": "markdown",
   "metadata": {},
   "source": [
    "### Import both GMD and weekly estimated cases"
   ]
  },
  {
   "cell_type": "code",
   "execution_count": 162,
   "metadata": {},
   "outputs": [],
   "source": [
    "all_state_mob_data = pd.read_csv(\"data/all_state_mob_data.csv\")\n",
    "weekly_est_cases_deaths = pd.read_csv(\"data/weekly_est_cases_deaths.csv\")\n",
    "\n",
    "all_state_mob_data['date'] = pd.to_datetime(all_state_mob_data['date'])\n",
    "weekly_est_cases_deaths['date'] = pd.to_datetime(weekly_est_cases_deaths['date'])"
   ]
  },
  {
   "cell_type": "markdown",
   "metadata": {},
   "source": [
    "### Select only the change from baseline data from the Google Mobility Data and then sum by week"
   ]
  },
  {
   "cell_type": "code",
   "execution_count": 163,
   "metadata": {},
   "outputs": [],
   "source": [
    "all_state_mob_data['date'] = pd.to_datetime(all_state_mob_data['date'])\n",
    "mob_data = all_state_mob_data.iloc[:,0:8].copy()\n",
    "name_change_dict = {\n",
    "    'retail_and_recreation_percent_change_from_baseline':'retail_weekly_change',\n",
    "    'grocery_and_pharmacy_percent_change_from_baseline':'grocery_weekly_change',\n",
    "    'parks_percent_change_from_baseline':'parks_weekly_change',\n",
    "    'transit_stations_percent_change_from_baseline':'transit_weekly_change',\n",
    "    'workplaces_percent_change_from_baseline':'work_weekly_change',\n",
    "    'residential_percent_change_from_baseline':'home_weekly_change'\n",
    "}\n",
    "weekly_mobility_data = mob_data.groupby('sub_region_1').resample('W-SAT', on='date').sum()\n",
    "weekly_mobility_data.rename(columns=name_change_dict, inplace=True)\n",
    "weekly_mobility_data.reset_index(inplace=True)"
   ]
  },
  {
   "cell_type": "code",
   "execution_count": 164,
   "metadata": {},
   "outputs": [
    {
     "data": {
      "text/html": [
       "<div>\n",
       "<style scoped>\n",
       "    .dataframe tbody tr th:only-of-type {\n",
       "        vertical-align: middle;\n",
       "    }\n",
       "\n",
       "    .dataframe tbody tr th {\n",
       "        vertical-align: top;\n",
       "    }\n",
       "\n",
       "    .dataframe thead th {\n",
       "        text-align: right;\n",
       "    }\n",
       "</style>\n",
       "<table border=\"1\" class=\"dataframe\">\n",
       "  <thead>\n",
       "    <tr style=\"text-align: right;\">\n",
       "      <th></th>\n",
       "      <th>sub_region_1</th>\n",
       "      <th>date</th>\n",
       "      <th>retail_weekly_change</th>\n",
       "      <th>grocery_weekly_change</th>\n",
       "      <th>parks_weekly_change</th>\n",
       "      <th>transit_weekly_change</th>\n",
       "      <th>work_weekly_change</th>\n",
       "      <th>home_weekly_change</th>\n",
       "    </tr>\n",
       "  </thead>\n",
       "  <tbody>\n",
       "    <tr>\n",
       "      <td>0</td>\n",
       "      <td>Alabama</td>\n",
       "      <td>2020-02-15</td>\n",
       "      <td>5.0</td>\n",
       "      <td>2.0</td>\n",
       "      <td>39.0</td>\n",
       "      <td>7.0</td>\n",
       "      <td>2.0</td>\n",
       "      <td>-1.0</td>\n",
       "    </tr>\n",
       "    <tr>\n",
       "      <td>1</td>\n",
       "      <td>Alabama</td>\n",
       "      <td>2020-02-22</td>\n",
       "      <td>4.0</td>\n",
       "      <td>-6.0</td>\n",
       "      <td>38.0</td>\n",
       "      <td>34.0</td>\n",
       "      <td>-9.0</td>\n",
       "      <td>9.0</td>\n",
       "    </tr>\n",
       "    <tr>\n",
       "      <td>2</td>\n",
       "      <td>Alabama</td>\n",
       "      <td>2020-02-29</td>\n",
       "      <td>63.0</td>\n",
       "      <td>29.0</td>\n",
       "      <td>134.0</td>\n",
       "      <td>75.0</td>\n",
       "      <td>7.0</td>\n",
       "      <td>-4.0</td>\n",
       "    </tr>\n",
       "    <tr>\n",
       "      <td>3</td>\n",
       "      <td>Alabama</td>\n",
       "      <td>2020-03-07</td>\n",
       "      <td>79.0</td>\n",
       "      <td>47.0</td>\n",
       "      <td>168.0</td>\n",
       "      <td>65.0</td>\n",
       "      <td>19.0</td>\n",
       "      <td>-4.0</td>\n",
       "    </tr>\n",
       "    <tr>\n",
       "      <td>4</td>\n",
       "      <td>Alabama</td>\n",
       "      <td>2020-03-14</td>\n",
       "      <td>59.0</td>\n",
       "      <td>114.0</td>\n",
       "      <td>272.0</td>\n",
       "      <td>67.0</td>\n",
       "      <td>10.0</td>\n",
       "      <td>-4.0</td>\n",
       "    </tr>\n",
       "  </tbody>\n",
       "</table>\n",
       "</div>"
      ],
      "text/plain": [
       "  sub_region_1       date  retail_weekly_change  grocery_weekly_change  \\\n",
       "0      Alabama 2020-02-15                   5.0                    2.0   \n",
       "1      Alabama 2020-02-22                   4.0                   -6.0   \n",
       "2      Alabama 2020-02-29                  63.0                   29.0   \n",
       "3      Alabama 2020-03-07                  79.0                   47.0   \n",
       "4      Alabama 2020-03-14                  59.0                  114.0   \n",
       "\n",
       "   parks_weekly_change  transit_weekly_change  work_weekly_change  \\\n",
       "0                 39.0                    7.0                 2.0   \n",
       "1                 38.0                   34.0                -9.0   \n",
       "2                134.0                   75.0                 7.0   \n",
       "3                168.0                   65.0                19.0   \n",
       "4                272.0                   67.0                10.0   \n",
       "\n",
       "   home_weekly_change  \n",
       "0                -1.0  \n",
       "1                 9.0  \n",
       "2                -4.0  \n",
       "3                -4.0  \n",
       "4                -4.0  "
      ]
     },
     "execution_count": 164,
     "metadata": {},
     "output_type": "execute_result"
    }
   ],
   "source": [
    "weekly_mobility_data.head()"
   ]
  },
  {
   "cell_type": "markdown",
   "metadata": {},
   "source": [
    "### Select only state, date, and estimated infections per 100k population from esimated infections data by state"
   ]
  },
  {
   "cell_type": "code",
   "execution_count": 251,
   "metadata": {},
   "outputs": [],
   "source": [
    "input_state = 'North Dakota'"
   ]
  },
  {
   "cell_type": "code",
   "execution_count": 252,
   "metadata": {},
   "outputs": [],
   "source": [
    "current_week_for_state = weekly_est_cases_deaths[(weekly_est_cases_deaths['state'] == input_state)].copy()\n",
    "current_week_for_state = current_week_for_state[['date','est_inf_per_100k']]"
   ]
  },
  {
   "cell_type": "markdown",
   "metadata": {},
   "source": [
    "### Shift estimated infections per 100k in one week to be the number of infectious people per 100k the next week"
   ]
  },
  {
   "cell_type": "code",
   "execution_count": 253,
   "metadata": {},
   "outputs": [],
   "source": [
    "next_week_for_state = current_week_for_state[['est_inf_per_100k']].shift(-1).copy()\n",
    "next_week_for_state.rename(columns={'date':'date_inf_occ_on','est_inf':'infect_the_next_week',\n",
    "                                    'est_inf_per_100k':'est_inf_per_100k_week_ltr'}, inplace=True)"
   ]
  },
  {
   "cell_type": "code",
   "execution_count": 254,
   "metadata": {},
   "outputs": [
    {
     "data": {
      "text/html": [
       "<div>\n",
       "<style scoped>\n",
       "    .dataframe tbody tr th:only-of-type {\n",
       "        vertical-align: middle;\n",
       "    }\n",
       "\n",
       "    .dataframe tbody tr th {\n",
       "        vertical-align: top;\n",
       "    }\n",
       "\n",
       "    .dataframe thead th {\n",
       "        text-align: right;\n",
       "    }\n",
       "</style>\n",
       "<table border=\"1\" class=\"dataframe\">\n",
       "  <thead>\n",
       "    <tr style=\"text-align: right;\">\n",
       "      <th></th>\n",
       "      <th>est_inf_per_100k_week_ltr</th>\n",
       "    </tr>\n",
       "  </thead>\n",
       "  <tbody>\n",
       "    <tr>\n",
       "      <td>1442</td>\n",
       "      <td>38.579538</td>\n",
       "    </tr>\n",
       "    <tr>\n",
       "      <td>1443</td>\n",
       "      <td>77.159076</td>\n",
       "    </tr>\n",
       "    <tr>\n",
       "      <td>1444</td>\n",
       "      <td>38.579538</td>\n",
       "    </tr>\n",
       "    <tr>\n",
       "      <td>1445</td>\n",
       "      <td>192.897691</td>\n",
       "    </tr>\n",
       "    <tr>\n",
       "      <td>1446</td>\n",
       "      <td>173.607922</td>\n",
       "    </tr>\n",
       "  </tbody>\n",
       "</table>\n",
       "</div>"
      ],
      "text/plain": [
       "      est_inf_per_100k_week_ltr\n",
       "1442                  38.579538\n",
       "1443                  77.159076\n",
       "1444                  38.579538\n",
       "1445                 192.897691\n",
       "1446                 173.607922"
      ]
     },
     "execution_count": 254,
     "metadata": {},
     "output_type": "execute_result"
    }
   ],
   "source": [
    "next_week_for_state.head()"
   ]
  },
  {
   "cell_type": "code",
   "execution_count": 255,
   "metadata": {},
   "outputs": [
    {
     "data": {
      "text/html": [
       "<div>\n",
       "<style scoped>\n",
       "    .dataframe tbody tr th:only-of-type {\n",
       "        vertical-align: middle;\n",
       "    }\n",
       "\n",
       "    .dataframe tbody tr th {\n",
       "        vertical-align: top;\n",
       "    }\n",
       "\n",
       "    .dataframe thead th {\n",
       "        text-align: right;\n",
       "    }\n",
       "</style>\n",
       "<table border=\"1\" class=\"dataframe\">\n",
       "  <thead>\n",
       "    <tr style=\"text-align: right;\">\n",
       "      <th></th>\n",
       "      <th>date</th>\n",
       "      <th>est_inf_per_100k</th>\n",
       "    </tr>\n",
       "  </thead>\n",
       "  <tbody>\n",
       "    <tr>\n",
       "      <td>1442</td>\n",
       "      <td>2020-03-14</td>\n",
       "      <td>19.289769</td>\n",
       "    </tr>\n",
       "    <tr>\n",
       "      <td>1443</td>\n",
       "      <td>2020-03-21</td>\n",
       "      <td>38.579538</td>\n",
       "    </tr>\n",
       "    <tr>\n",
       "      <td>1444</td>\n",
       "      <td>2020-03-28</td>\n",
       "      <td>77.159076</td>\n",
       "    </tr>\n",
       "    <tr>\n",
       "      <td>1445</td>\n",
       "      <td>2020-04-04</td>\n",
       "      <td>38.579538</td>\n",
       "    </tr>\n",
       "    <tr>\n",
       "      <td>1446</td>\n",
       "      <td>2020-04-11</td>\n",
       "      <td>192.897691</td>\n",
       "    </tr>\n",
       "  </tbody>\n",
       "</table>\n",
       "</div>"
      ],
      "text/plain": [
       "           date  est_inf_per_100k\n",
       "1442 2020-03-14         19.289769\n",
       "1443 2020-03-21         38.579538\n",
       "1444 2020-03-28         77.159076\n",
       "1445 2020-04-04         38.579538\n",
       "1446 2020-04-11        192.897691"
      ]
     },
     "execution_count": 255,
     "metadata": {},
     "output_type": "execute_result"
    }
   ],
   "source": [
    "current_week_for_state.head()"
   ]
  },
  {
   "cell_type": "code",
   "execution_count": null,
   "metadata": {},
   "outputs": [],
   "source": []
  },
  {
   "cell_type": "code",
   "execution_count": 256,
   "metadata": {},
   "outputs": [],
   "source": [
    "curr_and_next_for_state = current_week_for_state.join(next_week_for_state)\n",
    "\n",
    "curr_and_next_for_state.dropna(inplace=True)"
   ]
  },
  {
   "cell_type": "markdown",
   "metadata": {},
   "source": [
    "### Select GMD for the specified state"
   ]
  },
  {
   "cell_type": "code",
   "execution_count": 257,
   "metadata": {},
   "outputs": [],
   "source": [
    "weekly_mobility_data_for_state = weekly_mobility_data[(weekly_mobility_data['sub_region_1'] == input_state)].copy()\n",
    "del weekly_mobility_data_for_state['sub_region_1']"
   ]
  },
  {
   "cell_type": "markdown",
   "metadata": {},
   "source": [
    "### Merge the two data sets"
   ]
  },
  {
   "cell_type": "code",
   "execution_count": 258,
   "metadata": {},
   "outputs": [],
   "source": [
    "df_gmd_and_infections = pd.merge(curr_and_next_for_state, weekly_mobility_data_for_state, how='inner', left_on=['date'], right_on=['date'])\n",
    "df_gmd_and_infections['theta0'] = 1"
   ]
  },
  {
   "cell_type": "code",
   "execution_count": 259,
   "metadata": {},
   "outputs": [],
   "source": [
    "cols_order_change = ['date',\n",
    " 'theta0',\n",
    " 'retail_weekly_change',\n",
    " 'grocery_weekly_change',\n",
    " 'parks_weekly_change',\n",
    " 'transit_weekly_change',\n",
    " 'work_weekly_change',\n",
    " 'home_weekly_change',\n",
    "'est_inf_per_100k',\n",
    "'est_inf_per_100k_week_ltr',]"
   ]
  },
  {
   "cell_type": "code",
   "execution_count": 260,
   "metadata": {},
   "outputs": [],
   "source": [
    "df_gmd_and_infections = df_gmd_and_infections[cols_order_change]"
   ]
  },
  {
   "cell_type": "code",
   "execution_count": 261,
   "metadata": {},
   "outputs": [],
   "source": [
    "X = df_gmd_and_infections[['theta0',\n",
    " 'retail_weekly_change',\n",
    " 'grocery_weekly_change',\n",
    " 'parks_weekly_change',\n",
    " 'transit_weekly_change',\n",
    " 'work_weekly_change',\n",
    " 'home_weekly_change',\n",
    "'est_inf_per_100k']]\n",
    "y = df_gmd_and_infections['est_inf_per_100k_week_ltr']"
   ]
  },
  {
   "cell_type": "code",
   "execution_count": 262,
   "metadata": {},
   "outputs": [
    {
     "name": "stdout",
     "output_type": "stream",
     "text": [
      "Intercept: \n",
      " 854.322846294603\n",
      "Coefficients: \n",
      " [  0.          -0.11405542  -4.78412883  -0.57622151   2.46245262\n",
      "  -2.9063275  -10.70956091   0.5404271 ]\n"
     ]
    }
   ],
   "source": [
    "# with sklearn\n",
    "regr = linear_model.LinearRegression()\n",
    "regr.fit(X, y)\n",
    "\n",
    "print('Intercept: \\n', regr.intercept_)\n",
    "print('Coefficients: \\n', regr.coef_)"
   ]
  },
  {
   "cell_type": "code",
   "execution_count": 263,
   "metadata": {},
   "outputs": [
    {
     "name": "stdout",
     "output_type": "stream",
     "text": [
      "                                OLS Regression Results                               \n",
      "=====================================================================================\n",
      "Dep. Variable:     est_inf_per_100k_week_ltr   R-squared:                       0.826\n",
      "Model:                                   OLS   Adj. R-squared:                  0.786\n",
      "Method:                        Least Squares   F-statistic:                     20.96\n",
      "Date:                       Fri, 01 Jan 2021   Prob (F-statistic):           4.18e-10\n",
      "Time:                               17:54:26   Log-Likelihood:                -279.40\n",
      "No. Observations:                         39   AIC:                             574.8\n",
      "Df Residuals:                             31   BIC:                             588.1\n",
      "Df Model:                                  7                                         \n",
      "Covariance Type:                   nonrobust                                         \n",
      "=========================================================================================\n",
      "                            coef    std err          t      P>|t|      [0.025      0.975]\n",
      "-----------------------------------------------------------------------------------------\n",
      "theta0                  854.3228    336.133      2.542      0.016     168.775    1539.871\n",
      "retail_weekly_change     -0.1141      2.835     -0.040      0.968      -5.896       5.668\n",
      "grocery_weekly_change    -4.7841      2.605     -1.837      0.076     -10.097       0.529\n",
      "parks_weekly_change      -0.5762      0.388     -1.486      0.148      -1.367       0.215\n",
      "transit_weekly_change     2.4625      4.130      0.596      0.555      -5.961      10.886\n",
      "work_weekly_change       -2.9063      3.741     -0.777      0.443     -10.535       4.723\n",
      "home_weekly_change      -10.7096     13.123     -0.816      0.421     -37.475      16.056\n",
      "est_inf_per_100k          0.5404      0.167      3.236      0.003       0.200       0.881\n",
      "==============================================================================\n",
      "Omnibus:                        7.779   Durbin-Watson:                   2.040\n",
      "Prob(Omnibus):                  0.020   Jarque-Bera (JB):               10.550\n",
      "Skew:                           0.421   Prob(JB):                      0.00512\n",
      "Kurtosis:                       5.404   Cond. No.                     6.39e+03\n",
      "==============================================================================\n",
      "\n",
      "Warnings:\n",
      "[1] Standard Errors assume that the covariance matrix of the errors is correctly specified.\n",
      "[2] The condition number is large, 6.39e+03. This might indicate that there are\n",
      "strong multicollinearity or other numerical problems.\n"
     ]
    }
   ],
   "source": [
    "model = sm.OLS(y, X).fit()\n",
    "predictions = model.predict(X) \n",
    " \n",
    "print_model = model.summary()\n",
    "print(print_model)"
   ]
  },
  {
   "cell_type": "code",
   "execution_count": 264,
   "metadata": {},
   "outputs": [],
   "source": [
    "thetas = model.params.tolist()"
   ]
  },
  {
   "cell_type": "code",
   "execution_count": 265,
   "metadata": {},
   "outputs": [
    {
     "data": {
      "text/plain": [
       "[854.3228462946065,\n",
       " -0.11405541859277801,\n",
       " -4.784128825429674,\n",
       " -0.5762215103897147,\n",
       " 2.4624526225951446,\n",
       " -2.9063275011141174,\n",
       " -10.709560907684851,\n",
       " 0.5404270992697732]"
      ]
     },
     "execution_count": 265,
     "metadata": {},
     "output_type": "execute_result"
    }
   ],
   "source": [
    "thetas"
   ]
  },
  {
   "cell_type": "code",
   "execution_count": 266,
   "metadata": {},
   "outputs": [],
   "source": [
    "hyp = X.dot(thetas)"
   ]
  },
  {
   "cell_type": "code",
   "execution_count": 267,
   "metadata": {},
   "outputs": [
    {
     "data": {
      "text/plain": [
       "<matplotlib.collections.PathCollection at 0x7ffe789c1ed0>"
      ]
     },
     "execution_count": 267,
     "metadata": {},
     "output_type": "execute_result"
    },
    {
     "data": {
      "image/png": "[encoded data removed]",
      "text/plain": [
       "<Figure size 432x288 with 1 Axes>"
      ]
     },
     "metadata": {
      "needs_background": "light"
     },
     "output_type": "display_data"
    }
   ],
   "source": [
    "plt.scatter(hyp,y)"
   ]
  },
  {
   "cell_type": "code",
   "execution_count": null,
   "metadata": {},
   "outputs": [],
   "source": []
  },
  {
   "cell_type": "markdown",
   "metadata": {},
   "source": [
    "print('Intercept: \\n', regr.intercept_)\n",
    "print('Coefficients: \\n', regr.coef_)\n",
    "\n",
    "# prediction with sklearn\n",
    "New_Interest_Rate = 2.75\n",
    "New_Unemployment_Rate = 5.3\n",
    "print ('Predicted Stock Index Price: \\n', regr.predict([[New_Interest_Rate ,New_Unemployment_Rate]]))\n",
    "\n",
    "# with statsmodels\n",
    "X = sm.add_constant(X) # adding a constant\n",
    " \n",
    "model = sm.OLS(Y, X).fit()\n",
    "predictions = model.predict(X) \n",
    " \n",
    "print_model = model.summary()\n",
    "print(print_model)"
   ]
  }
 ],
 "metadata": {
  "kernelspec": {
   "display_name": "Python 3",
   "language": "python",
   "name": "python3"
  },
  "language_info": {
   "codemirror_mode": {
    "name": "ipython",
    "version": 3
   },
   "file_extension": ".py",
   "mimetype": "text/x-python",
   "name": "python",
   "nbconvert_exporter": "python",
   "pygments_lexer": "ipython3",
   "version": "3.7.4"
  }
 },
 "nbformat": 4,
 "nbformat_minor": 4
}
