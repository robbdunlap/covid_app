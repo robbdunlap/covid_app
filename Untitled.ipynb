{
 "cells": [
  {
   "cell_type": "code",
   "execution_count": 1,
   "metadata": {},
   "outputs": [],
   "source": [
    "import pandas as pd\n",
    "import numpy as np\n",
    "import matplotlib.pyplot as plt\n"
   ]
  },
  {
   "cell_type": "code",
   "execution_count": 2,
   "metadata": {},
   "outputs": [],
   "source": [
    "weekly_est_cases_deaths = pd.read_csv(\"data/weekly_est_cases_deaths.csv\")"
   ]
  },
  {
   "cell_type": "code",
   "execution_count": 3,
   "metadata": {},
   "outputs": [
    {
     "name": "stdout",
     "output_type": "stream",
     "text": [
      "<class 'pandas.core.frame.DataFrame'>\n",
      "RangeIndex: 2154 entries, 0 to 2153\n",
      "Data columns (total 25 columns):\n",
      "state                       2154 non-null object\n",
      "date                        2154 non-null object\n",
      "new_cases_jhu               2154 non-null int64\n",
      "new_deaths_jhu              2154 non-null int64\n",
      "Excess Lower Estimate       2103 non-null float64\n",
      "Excess Higher Estimate      2103 non-null float64\n",
      "mid_point_xs_deaths         2103 non-null float64\n",
      "corr_new_deaths             2154 non-null float64\n",
      "est_inf                     2052 non-null float64\n",
      "pro_chg_est_inf             2017 non-null float64\n",
      "mobile_infectious           2035 non-null float64\n",
      "phi                         2035 non-null float64\n",
      "population                  2154 non-null int64\n",
      "est_inf_per_100k            2052 non-null float64\n",
      "new_cases_per_100k          2154 non-null float64\n",
      "state_id                    2154 non-null object\n",
      "rho                         2154 non-null float64\n",
      "weekly_exposures            2154 non-null float64\n",
      "pro_chg_weekly_exposures    2154 non-null float64\n",
      "density_cor_exposure        2154 non-null float64\n",
      "psi                         1942 non-null float64\n",
      "enc_w_inf                   2035 non-null float64\n",
      "new_results_reported        2154 non-null int64\n",
      "positive_results            2154 non-null int64\n",
      "test_positivity_rate        2154 non-null float64\n",
      "dtypes: float64(17), int64(5), object(3)\n",
      "memory usage: 420.8+ KB\n"
     ]
    }
   ],
   "source": [
    "weekly_est_cases_deaths.info()"
   ]
  },
  {
   "cell_type": "code",
   "execution_count": 4,
   "metadata": {},
   "outputs": [],
   "source": [
    "#weekly_est_cases_deaths['prob_enc_with_inf'] = weekly_est_cases_deaths['mobile_infectious']/weekly_est_cases_deaths['population']"
   ]
  },
  {
   "cell_type": "code",
   "execution_count": 5,
   "metadata": {},
   "outputs": [],
   "source": [
    "#weekly_est_cases_deaths['enc_w_inf'] = weekly_est_cases_deaths['density_cor_exposure'] * weekly_est_cases_deaths['phi']"
   ]
  },
  {
   "cell_type": "code",
   "execution_count": 200,
   "metadata": {},
   "outputs": [],
   "source": [
    "input_state = 'Utah'"
   ]
  },
  {
   "cell_type": "code",
   "execution_count": 201,
   "metadata": {
    "jupyter": {
     "source_hidden": true
    }
   },
   "outputs": [
    {
     "data": {
      "text/html": [
       "<div>\n",
       "<style scoped>\n",
       "    .dataframe tbody tr th:only-of-type {\n",
       "        vertical-align: middle;\n",
       "    }\n",
       "\n",
       "    .dataframe tbody tr th {\n",
       "        vertical-align: top;\n",
       "    }\n",
       "\n",
       "    .dataframe thead th {\n",
       "        text-align: right;\n",
       "    }\n",
       "</style>\n",
       "<table border=\"1\" class=\"dataframe\">\n",
       "  <thead>\n",
       "    <tr style=\"text-align: right;\">\n",
       "      <th></th>\n",
       "      <th>date</th>\n",
       "      <th>est_inf</th>\n",
       "      <th>enc_w_inf</th>\n",
       "      <th>est_inf_per_100k</th>\n",
       "    </tr>\n",
       "  </thead>\n",
       "  <tbody>\n",
       "    <tr>\n",
       "      <td>1862</td>\n",
       "      <td>2020-03-14</td>\n",
       "      <td>147.0</td>\n",
       "      <td>NaN</td>\n",
       "      <td>4.585213</td>\n",
       "    </tr>\n",
       "    <tr>\n",
       "      <td>1863</td>\n",
       "      <td>2020-03-21</td>\n",
       "      <td>2058.0</td>\n",
       "      <td>0.054881</td>\n",
       "      <td>64.192981</td>\n",
       "    </tr>\n",
       "    <tr>\n",
       "      <td>1864</td>\n",
       "      <td>2020-03-28</td>\n",
       "      <td>1470.0</td>\n",
       "      <td>0.530980</td>\n",
       "      <td>45.852129</td>\n",
       "    </tr>\n",
       "    <tr>\n",
       "      <td>1865</td>\n",
       "      <td>2020-04-04</td>\n",
       "      <td>1029.0</td>\n",
       "      <td>0.332630</td>\n",
       "      <td>32.096490</td>\n",
       "    </tr>\n",
       "    <tr>\n",
       "      <td>1866</td>\n",
       "      <td>2020-04-11</td>\n",
       "      <td>2867.0</td>\n",
       "      <td>0.234766</td>\n",
       "      <td>89.427248</td>\n",
       "    </tr>\n",
       "  </tbody>\n",
       "</table>\n",
       "</div>"
      ],
      "text/plain": [
       "            date  est_inf  enc_w_inf  est_inf_per_100k\n",
       "1862  2020-03-14    147.0        NaN          4.585213\n",
       "1863  2020-03-21   2058.0   0.054881         64.192981\n",
       "1864  2020-03-28   1470.0   0.530980         45.852129\n",
       "1865  2020-04-04   1029.0   0.332630         32.096490\n",
       "1866  2020-04-11   2867.0   0.234766         89.427248"
      ]
     },
     "execution_count": 201,
     "metadata": {},
     "output_type": "execute_result"
    }
   ],
   "source": [
    "test = weekly_est_cases_deaths[(weekly_est_cases_deaths['state'] == input_state)].copy()\n",
    "test = test[['date','est_inf','enc_w_inf','est_inf_per_100k']]\n",
    "test.head()"
   ]
  },
  {
   "cell_type": "code",
   "execution_count": 202,
   "metadata": {
    "jupyter": {
     "source_hidden": true
    }
   },
   "outputs": [],
   "source": [
    "test2 = test[['date','est_inf','est_inf_per_100k']].shift().copy()\n",
    "test2.rename(columns={'date':'date_inf_occ_on','est_inf':'infect_1_week_later','est_inf_per_100k':'est_inf_per_100k_week_ltr'}, inplace=True)"
   ]
  },
  {
   "cell_type": "code",
   "execution_count": 203,
   "metadata": {
    "jupyter": {
     "source_hidden": true
    }
   },
   "outputs": [
    {
     "data": {
      "text/html": [
       "<div>\n",
       "<style scoped>\n",
       "    .dataframe tbody tr th:only-of-type {\n",
       "        vertical-align: middle;\n",
       "    }\n",
       "\n",
       "    .dataframe tbody tr th {\n",
       "        vertical-align: top;\n",
       "    }\n",
       "\n",
       "    .dataframe thead th {\n",
       "        text-align: right;\n",
       "    }\n",
       "</style>\n",
       "<table border=\"1\" class=\"dataframe\">\n",
       "  <thead>\n",
       "    <tr style=\"text-align: right;\">\n",
       "      <th></th>\n",
       "      <th>date_inf_occ_on</th>\n",
       "      <th>infect_1_week_later</th>\n",
       "      <th>est_inf_per_100k_week_ltr</th>\n",
       "    </tr>\n",
       "  </thead>\n",
       "  <tbody>\n",
       "    <tr>\n",
       "      <td>1862</td>\n",
       "      <td>NaN</td>\n",
       "      <td>NaN</td>\n",
       "      <td>NaN</td>\n",
       "    </tr>\n",
       "    <tr>\n",
       "      <td>1863</td>\n",
       "      <td>2020-03-14</td>\n",
       "      <td>147.0</td>\n",
       "      <td>4.585213</td>\n",
       "    </tr>\n",
       "    <tr>\n",
       "      <td>1864</td>\n",
       "      <td>2020-03-21</td>\n",
       "      <td>2058.0</td>\n",
       "      <td>64.192981</td>\n",
       "    </tr>\n",
       "    <tr>\n",
       "      <td>1865</td>\n",
       "      <td>2020-03-28</td>\n",
       "      <td>1470.0</td>\n",
       "      <td>45.852129</td>\n",
       "    </tr>\n",
       "    <tr>\n",
       "      <td>1866</td>\n",
       "      <td>2020-04-04</td>\n",
       "      <td>1029.0</td>\n",
       "      <td>32.096490</td>\n",
       "    </tr>\n",
       "  </tbody>\n",
       "</table>\n",
       "</div>"
      ],
      "text/plain": [
       "     date_inf_occ_on  infect_1_week_later  est_inf_per_100k_week_ltr\n",
       "1862             NaN                  NaN                        NaN\n",
       "1863      2020-03-14                147.0                   4.585213\n",
       "1864      2020-03-21               2058.0                  64.192981\n",
       "1865      2020-03-28               1470.0                  45.852129\n",
       "1866      2020-04-04               1029.0                  32.096490"
      ]
     },
     "execution_count": 203,
     "metadata": {},
     "output_type": "execute_result"
    }
   ],
   "source": [
    "test2.head()"
   ]
  },
  {
   "cell_type": "code",
   "execution_count": 204,
   "metadata": {
    "jupyter": {
     "source_hidden": true
    }
   },
   "outputs": [
    {
     "data": {
      "text/html": [
       "<div>\n",
       "<style scoped>\n",
       "    .dataframe tbody tr th:only-of-type {\n",
       "        vertical-align: middle;\n",
       "    }\n",
       "\n",
       "    .dataframe tbody tr th {\n",
       "        vertical-align: top;\n",
       "    }\n",
       "\n",
       "    .dataframe thead th {\n",
       "        text-align: right;\n",
       "    }\n",
       "</style>\n",
       "<table border=\"1\" class=\"dataframe\">\n",
       "  <thead>\n",
       "    <tr style=\"text-align: right;\">\n",
       "      <th></th>\n",
       "      <th>date</th>\n",
       "      <th>est_inf</th>\n",
       "      <th>enc_w_inf</th>\n",
       "      <th>est_inf_per_100k</th>\n",
       "      <th>date_inf_occ_on</th>\n",
       "      <th>infect_1_week_later</th>\n",
       "      <th>est_inf_per_100k_week_ltr</th>\n",
       "    </tr>\n",
       "  </thead>\n",
       "  <tbody>\n",
       "    <tr>\n",
       "      <td>1862</td>\n",
       "      <td>2020-03-14</td>\n",
       "      <td>147.0</td>\n",
       "      <td>NaN</td>\n",
       "      <td>4.585213</td>\n",
       "      <td>NaN</td>\n",
       "      <td>NaN</td>\n",
       "      <td>NaN</td>\n",
       "    </tr>\n",
       "    <tr>\n",
       "      <td>1863</td>\n",
       "      <td>2020-03-21</td>\n",
       "      <td>2058.0</td>\n",
       "      <td>0.054881</td>\n",
       "      <td>64.192981</td>\n",
       "      <td>2020-03-14</td>\n",
       "      <td>147.0</td>\n",
       "      <td>4.585213</td>\n",
       "    </tr>\n",
       "    <tr>\n",
       "      <td>1864</td>\n",
       "      <td>2020-03-28</td>\n",
       "      <td>1470.0</td>\n",
       "      <td>0.530980</td>\n",
       "      <td>45.852129</td>\n",
       "      <td>2020-03-21</td>\n",
       "      <td>2058.0</td>\n",
       "      <td>64.192981</td>\n",
       "    </tr>\n",
       "    <tr>\n",
       "      <td>1865</td>\n",
       "      <td>2020-04-04</td>\n",
       "      <td>1029.0</td>\n",
       "      <td>0.332630</td>\n",
       "      <td>32.096490</td>\n",
       "      <td>2020-03-28</td>\n",
       "      <td>1470.0</td>\n",
       "      <td>45.852129</td>\n",
       "    </tr>\n",
       "    <tr>\n",
       "      <td>1866</td>\n",
       "      <td>2020-04-11</td>\n",
       "      <td>2867.0</td>\n",
       "      <td>0.234766</td>\n",
       "      <td>89.427248</td>\n",
       "      <td>2020-04-04</td>\n",
       "      <td>1029.0</td>\n",
       "      <td>32.096490</td>\n",
       "    </tr>\n",
       "  </tbody>\n",
       "</table>\n",
       "</div>"
      ],
      "text/plain": [
       "            date  est_inf  enc_w_inf  est_inf_per_100k date_inf_occ_on  \\\n",
       "1862  2020-03-14    147.0        NaN          4.585213             NaN   \n",
       "1863  2020-03-21   2058.0   0.054881         64.192981      2020-03-14   \n",
       "1864  2020-03-28   1470.0   0.530980         45.852129      2020-03-21   \n",
       "1865  2020-04-04   1029.0   0.332630         32.096490      2020-03-28   \n",
       "1866  2020-04-11   2867.0   0.234766         89.427248      2020-04-04   \n",
       "\n",
       "      infect_1_week_later  est_inf_per_100k_week_ltr  \n",
       "1862                  NaN                        NaN  \n",
       "1863                147.0                   4.585213  \n",
       "1864               2058.0                  64.192981  \n",
       "1865               1470.0                  45.852129  \n",
       "1866               1029.0                  32.096490  "
      ]
     },
     "execution_count": 204,
     "metadata": {},
     "output_type": "execute_result"
    }
   ],
   "source": [
    "test3 = test.join(test2)\n",
    "test3.head()"
   ]
  },
  {
   "cell_type": "markdown",
   "metadata": {},
   "source": [
    "## Correlation between subsequent weeks' infections"
   ]
  },
  {
   "cell_type": "code",
   "execution_count": 205,
   "metadata": {
    "jupyter": {
     "source_hidden": true
    }
   },
   "outputs": [
    {
     "data": {
      "text/plain": [
       "<matplotlib.collections.PathCollection at 0x7f9a870d7590>"
      ]
     },
     "execution_count": 205,
     "metadata": {},
     "output_type": "execute_result"
    },
    {
     "data": {
      "image/png": "[encoded data removed]",
      "text/plain": [
       "<Figure size 432x288 with 1 Axes>"
      ]
     },
     "metadata": {
      "needs_background": "light"
     },
     "output_type": "display_data"
    }
   ],
   "source": [
    "plt.scatter(test3['est_inf_per_100k'],test3['est_inf_per_100k_week_ltr'])"
   ]
  },
  {
   "cell_type": "markdown",
   "metadata": {},
   "source": [
    "## Correlation between encounters and infections in the subsequent week\n",
    "encounters = mobility index * probability that a person is infectious"
   ]
  },
  {
   "cell_type": "code",
   "execution_count": 206,
   "metadata": {
    "jupyter": {
     "source_hidden": true
    }
   },
   "outputs": [
    {
     "data": {
      "text/plain": [
       "<matplotlib.collections.PathCollection at 0x7f9a87693ed0>"
      ]
     },
     "execution_count": 206,
     "metadata": {},
     "output_type": "execute_result"
    },
    {
     "data": {
      "image/png": "[encoded data removed]",
      "text/plain": [
       "<Figure size 432x288 with 1 Axes>"
      ]
     },
     "metadata": {
      "needs_background": "light"
     },
     "output_type": "display_data"
    }
   ],
   "source": [
    "plt.scatter(test3['enc_w_inf'],test3['est_inf_per_100k_week_ltr'])"
   ]
  },
  {
   "cell_type": "code",
   "execution_count": 207,
   "metadata": {
    "jupyter": {
     "source_hidden": true
    }
   },
   "outputs": [
    {
     "data": {
      "image/png": "[encoded data removed]",
      "text/plain": [
       "<Figure size 432x288 with 1 Axes>"
      ]
     },
     "metadata": {
      "needs_background": "light"
     },
     "output_type": "display_data"
    }
   ],
   "source": [
    "fig = plt.figure()\n",
    "ax = plt.gca()\n",
    "ax.scatter(test3['enc_w_inf'] ,test3['est_inf_per_100k_week_ltr'] , c='blue', alpha=0.2, edgecolors='none')\n",
    "ax.set_yscale('log')\n",
    "ax.set_xscale('log')"
   ]
  },
  {
   "cell_type": "code",
   "execution_count": null,
   "metadata": {},
   "outputs": [],
   "source": []
  }
 ],
 "metadata": {
  "kernelspec": {
   "display_name": "Python 3",
   "language": "python",
   "name": "python3"
  },
  "language_info": {
   "codemirror_mode": {
    "name": "ipython",
    "version": 3
   },
   "file_extension": ".py",
   "mimetype": "text/x-python",
   "name": "python",
   "nbconvert_exporter": "python",
   "pygments_lexer": "ipython3",
   "version": "3.7.4"
  }
 },
 "nbformat": 4,
 "nbformat_minor": 4
}
