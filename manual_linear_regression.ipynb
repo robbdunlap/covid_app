{
 "cells": [
  {
   "cell_type": "code",
   "execution_count": 1,
   "metadata": {},
   "outputs": [],
   "source": [
    "import pandas as pd\n",
    "import numpy as np\n",
    "import matplotlib.pyplot as plt\n",
    "from sklearn.linear_model import LinearRegression\n",
    "from sklearn.model_selection import train_test_split\n",
    "from sklearn.pipeline import make_pipeline\n",
    "from sklearn.preprocessing import StandardScaler\n",
    "\n",
    "import statsmodels.api as sm\n"
   ]
  },
  {
   "cell_type": "markdown",
   "metadata": {},
   "source": [
    "### Import both GMD and weekly estimated cases"
   ]
  },
  {
   "cell_type": "code",
   "execution_count": 2,
   "metadata": {},
   "outputs": [],
   "source": [
    "all_state_mob_data = pd.read_csv(\"data/all_state_mob_data.csv\")\n",
    "weekly_est_cases_deaths = pd.read_csv(\"data/weekly_est_cases_deaths.csv\")\n",
    "\n",
    "all_state_mob_data['date'] = pd.to_datetime(all_state_mob_data['date'])\n",
    "weekly_est_cases_deaths['date'] = pd.to_datetime(weekly_est_cases_deaths['date'])"
   ]
  },
  {
   "cell_type": "code",
   "execution_count": 3,
   "metadata": {},
   "outputs": [
    {
     "name": "stdout",
     "output_type": "stream",
     "text": [
      "<class 'pandas.core.frame.DataFrame'>\n",
      "RangeIndex: 2205 entries, 0 to 2204\n",
      "Data columns (total 25 columns):\n",
      "state                       2205 non-null object\n",
      "date                        2205 non-null datetime64[ns]\n",
      "new_cases_jhu               2205 non-null int64\n",
      "new_deaths_jhu              2205 non-null int64\n",
      "Excess Lower Estimate       2103 non-null float64\n",
      "Excess Higher Estimate      2103 non-null float64\n",
      "mid_point_xs_deaths         2103 non-null float64\n",
      "corr_new_deaths             2205 non-null float64\n",
      "est_inf                     2103 non-null float64\n",
      "pro_chg_est_inf             2068 non-null float64\n",
      "mobile_infectious           2086 non-null float64\n",
      "phi                         2086 non-null float64\n",
      "population                  2205 non-null int64\n",
      "est_inf_per_100k            2103 non-null float64\n",
      "new_cases_per_100k          2205 non-null float64\n",
      "state_id                    2205 non-null object\n",
      "rho                         2205 non-null float64\n",
      "weekly_exposures            2154 non-null float64\n",
      "pro_chg_weekly_exposures    2154 non-null float64\n",
      "density_cor_exposure        2154 non-null float64\n",
      "psi                         1993 non-null float64\n",
      "enc_w_inf                   2086 non-null float64\n",
      "new_results_reported        2205 non-null int64\n",
      "positive_results            2205 non-null int64\n",
      "test_positivity_rate        2205 non-null float64\n",
      "dtypes: datetime64[ns](1), float64(17), int64(5), object(2)\n",
      "memory usage: 430.8+ KB\n"
     ]
    }
   ],
   "source": [
    "weekly_est_cases_deaths.info()"
   ]
  },
  {
   "cell_type": "markdown",
   "metadata": {},
   "source": [
    "### Select only the change from baseline data from the Google Mobility Data and then sum by week"
   ]
  },
  {
   "cell_type": "code",
   "execution_count": 4,
   "metadata": {},
   "outputs": [],
   "source": [
    "all_state_mob_data['date'] = pd.to_datetime(all_state_mob_data['date'])\n",
    "mob_data = all_state_mob_data.iloc[:,0:8].copy()\n",
    "name_change_dict = {\n",
    "    'retail_and_recreation_percent_change_from_baseline':'retail_weekly_change',\n",
    "    'grocery_and_pharmacy_percent_change_from_baseline':'grocery_weekly_change',\n",
    "    'parks_percent_change_from_baseline':'parks_weekly_change',\n",
    "    'transit_stations_percent_change_from_baseline':'transit_weekly_change',\n",
    "    'workplaces_percent_change_from_baseline':'work_weekly_change',\n",
    "    'residential_percent_change_from_baseline':'home_weekly_change'\n",
    "}\n",
    "weekly_mobility_data = mob_data.groupby('sub_region_1').resample('W-SAT', on='date').sum()\n",
    "weekly_mobility_data.rename(columns=name_change_dict, inplace=True)\n",
    "weekly_mobility_data.reset_index(inplace=True)"
   ]
  },
  {
   "cell_type": "code",
   "execution_count": 5,
   "metadata": {},
   "outputs": [
    {
     "data": {
      "text/html": [
       "<div>\n",
       "<style scoped>\n",
       "    .dataframe tbody tr th:only-of-type {\n",
       "        vertical-align: middle;\n",
       "    }\n",
       "\n",
       "    .dataframe tbody tr th {\n",
       "        vertical-align: top;\n",
       "    }\n",
       "\n",
       "    .dataframe thead th {\n",
       "        text-align: right;\n",
       "    }\n",
       "</style>\n",
       "<table border=\"1\" class=\"dataframe\">\n",
       "  <thead>\n",
       "    <tr style=\"text-align: right;\">\n",
       "      <th></th>\n",
       "      <th>sub_region_1</th>\n",
       "      <th>date</th>\n",
       "      <th>retail_weekly_change</th>\n",
       "      <th>grocery_weekly_change</th>\n",
       "      <th>parks_weekly_change</th>\n",
       "      <th>transit_weekly_change</th>\n",
       "      <th>work_weekly_change</th>\n",
       "      <th>home_weekly_change</th>\n",
       "    </tr>\n",
       "  </thead>\n",
       "  <tbody>\n",
       "    <tr>\n",
       "      <td>0</td>\n",
       "      <td>Alabama</td>\n",
       "      <td>2020-02-15</td>\n",
       "      <td>5.0</td>\n",
       "      <td>2.0</td>\n",
       "      <td>39.0</td>\n",
       "      <td>7.0</td>\n",
       "      <td>2.0</td>\n",
       "      <td>-1.0</td>\n",
       "    </tr>\n",
       "    <tr>\n",
       "      <td>1</td>\n",
       "      <td>Alabama</td>\n",
       "      <td>2020-02-22</td>\n",
       "      <td>4.0</td>\n",
       "      <td>-6.0</td>\n",
       "      <td>38.0</td>\n",
       "      <td>34.0</td>\n",
       "      <td>-9.0</td>\n",
       "      <td>9.0</td>\n",
       "    </tr>\n",
       "    <tr>\n",
       "      <td>2</td>\n",
       "      <td>Alabama</td>\n",
       "      <td>2020-02-29</td>\n",
       "      <td>63.0</td>\n",
       "      <td>29.0</td>\n",
       "      <td>134.0</td>\n",
       "      <td>75.0</td>\n",
       "      <td>7.0</td>\n",
       "      <td>-4.0</td>\n",
       "    </tr>\n",
       "    <tr>\n",
       "      <td>3</td>\n",
       "      <td>Alabama</td>\n",
       "      <td>2020-03-07</td>\n",
       "      <td>79.0</td>\n",
       "      <td>47.0</td>\n",
       "      <td>168.0</td>\n",
       "      <td>65.0</td>\n",
       "      <td>19.0</td>\n",
       "      <td>-4.0</td>\n",
       "    </tr>\n",
       "    <tr>\n",
       "      <td>4</td>\n",
       "      <td>Alabama</td>\n",
       "      <td>2020-03-14</td>\n",
       "      <td>59.0</td>\n",
       "      <td>114.0</td>\n",
       "      <td>272.0</td>\n",
       "      <td>67.0</td>\n",
       "      <td>10.0</td>\n",
       "      <td>-4.0</td>\n",
       "    </tr>\n",
       "  </tbody>\n",
       "</table>\n",
       "</div>"
      ],
      "text/plain": [
       "  sub_region_1       date  retail_weekly_change  grocery_weekly_change  \\\n",
       "0      Alabama 2020-02-15                   5.0                    2.0   \n",
       "1      Alabama 2020-02-22                   4.0                   -6.0   \n",
       "2      Alabama 2020-02-29                  63.0                   29.0   \n",
       "3      Alabama 2020-03-07                  79.0                   47.0   \n",
       "4      Alabama 2020-03-14                  59.0                  114.0   \n",
       "\n",
       "   parks_weekly_change  transit_weekly_change  work_weekly_change  \\\n",
       "0                 39.0                    7.0                 2.0   \n",
       "1                 38.0                   34.0                -9.0   \n",
       "2                134.0                   75.0                 7.0   \n",
       "3                168.0                   65.0                19.0   \n",
       "4                272.0                   67.0                10.0   \n",
       "\n",
       "   home_weekly_change  \n",
       "0                -1.0  \n",
       "1                 9.0  \n",
       "2                -4.0  \n",
       "3                -4.0  \n",
       "4                -4.0  "
      ]
     },
     "execution_count": 5,
     "metadata": {},
     "output_type": "execute_result"
    }
   ],
   "source": [
    "weekly_mobility_data.head()"
   ]
  },
  {
   "cell_type": "markdown",
   "metadata": {},
   "source": [
    "### Select only state, date, estimated infections per 100k population, and phi from esimated infections data by state"
   ]
  },
  {
   "cell_type": "code",
   "execution_count": 43,
   "metadata": {},
   "outputs": [],
   "source": [
    "input_state = 'California'"
   ]
  },
  {
   "cell_type": "code",
   "execution_count": 44,
   "metadata": {},
   "outputs": [],
   "source": [
    "# limit the date range to a 'no-earlier-than' date (filter is applied directly below and for the GMD specified state/date range filter)\n",
    "date_selector = pd.to_datetime('2020-02-28')"
   ]
  },
  {
   "cell_type": "code",
   "execution_count": 45,
   "metadata": {},
   "outputs": [],
   "source": [
    "weekly_for_state = weekly_est_cases_deaths[(weekly_est_cases_deaths['state'] == input_state) & (weekly_est_cases_deaths['date'] > date_selector)].copy()\n",
    "weekly_for_state = weekly_for_state[['state','date','est_inf_per_100k','phi']]"
   ]
  },
  {
   "cell_type": "markdown",
   "metadata": {},
   "source": [
    "### Select GMD for the specified state"
   ]
  },
  {
   "cell_type": "code",
   "execution_count": 46,
   "metadata": {},
   "outputs": [],
   "source": [
    "weekly_mobility_data_for_state = weekly_mobility_data[(weekly_mobility_data['sub_region_1'] == input_state)& (weekly_mobility_data['date'] > date_selector)].copy()\n",
    "del weekly_mobility_data_for_state['sub_region_1']"
   ]
  },
  {
   "cell_type": "markdown",
   "metadata": {},
   "source": [
    "### Merge the two data sets"
   ]
  },
  {
   "cell_type": "code",
   "execution_count": 47,
   "metadata": {},
   "outputs": [],
   "source": [
    "df_gmd_and_infections = pd.merge(weekly_for_state, weekly_mobility_data_for_state, how='inner', left_on=['date'], right_on=['date'])"
   ]
  },
  {
   "cell_type": "code",
   "execution_count": 48,
   "metadata": {},
   "outputs": [],
   "source": [
    "cols_order_change = ['date',\n",
    " 'retail_weekly_change',\n",
    " 'grocery_weekly_change',\n",
    " 'parks_weekly_change',\n",
    " 'transit_weekly_change',\n",
    " 'work_weekly_change',\n",
    " 'home_weekly_change',\n",
    "'phi',\n",
    "'est_inf_per_100k',]"
   ]
  },
  {
   "cell_type": "code",
   "execution_count": 49,
   "metadata": {},
   "outputs": [],
   "source": [
    "df_gmd_and_infections = df_gmd_and_infections[cols_order_change]\n",
    "df_gmd_and_infections.dropna(inplace=True)"
   ]
  },
  {
   "cell_type": "markdown",
   "metadata": {},
   "source": [
    "## Generate the X training set for the linear regression model"
   ]
  },
  {
   "cell_type": "code",
   "execution_count": 50,
   "metadata": {},
   "outputs": [],
   "source": [
    "X = df_gmd_and_infections[[\n",
    " 'retail_weekly_change',\n",
    " 'grocery_weekly_change',\n",
    " 'parks_weekly_change',\n",
    " 'transit_weekly_change',\n",
    " 'work_weekly_change',\n",
    " 'home_weekly_change',\n",
    "'phi']]\n",
    "y = df_gmd_and_infections['est_inf_per_100k']"
   ]
  },
  {
   "cell_type": "markdown",
   "metadata": {},
   "source": [
    "#### Manual method for generating a scaled X set - ignore because now I've setup the pipeline"
   ]
  },
  {
   "cell_type": "code",
   "execution_count": 51,
   "metadata": {},
   "outputs": [],
   "source": [
    "df_gmd_and_infections_no_date = df_gmd_and_infections.copy()\n",
    "del df_gmd_and_infections_no_date['date']"
   ]
  },
  {
   "cell_type": "code",
   "execution_count": 52,
   "metadata": {},
   "outputs": [
    {
     "data": {
      "text/html": [
       "<div>\n",
       "<style scoped>\n",
       "    .dataframe tbody tr th:only-of-type {\n",
       "        vertical-align: middle;\n",
       "    }\n",
       "\n",
       "    .dataframe tbody tr th {\n",
       "        vertical-align: top;\n",
       "    }\n",
       "\n",
       "    .dataframe thead th {\n",
       "        text-align: right;\n",
       "    }\n",
       "</style>\n",
       "<table border=\"1\" class=\"dataframe\">\n",
       "  <thead>\n",
       "    <tr style=\"text-align: right;\">\n",
       "      <th></th>\n",
       "      <th>retail_weekly_change</th>\n",
       "      <th>grocery_weekly_change</th>\n",
       "      <th>parks_weekly_change</th>\n",
       "      <th>transit_weekly_change</th>\n",
       "      <th>work_weekly_change</th>\n",
       "      <th>home_weekly_change</th>\n",
       "      <th>phi</th>\n",
       "      <th>est_inf_per_100k</th>\n",
       "    </tr>\n",
       "  </thead>\n",
       "  <tbody>\n",
       "    <tr>\n",
       "      <td>0</td>\n",
       "      <td>30.0</td>\n",
       "      <td>40.0</td>\n",
       "      <td>67.0</td>\n",
       "      <td>-11.0</td>\n",
       "      <td>16.0</td>\n",
       "      <td>-1.0</td>\n",
       "      <td>0.000007</td>\n",
       "      <td>30.145102</td>\n",
       "    </tr>\n",
       "    <tr>\n",
       "      <td>1</td>\n",
       "      <td>-12.0</td>\n",
       "      <td>89.0</td>\n",
       "      <td>-47.0</td>\n",
       "      <td>-97.0</td>\n",
       "      <td>-24.0</td>\n",
       "      <td>21.0</td>\n",
       "      <td>0.000301</td>\n",
       "      <td>58.060515</td>\n",
       "    </tr>\n",
       "    <tr>\n",
       "      <td>2</td>\n",
       "      <td>-200.0</td>\n",
       "      <td>34.0</td>\n",
       "      <td>-148.0</td>\n",
       "      <td>-263.0</td>\n",
       "      <td>-220.0</td>\n",
       "      <td>103.0</td>\n",
       "      <td>0.000581</td>\n",
       "      <td>143.661874</td>\n",
       "    </tr>\n",
       "  </tbody>\n",
       "</table>\n",
       "</div>"
      ],
      "text/plain": [
       "   retail_weekly_change  grocery_weekly_change  parks_weekly_change  \\\n",
       "0                  30.0                   40.0                 67.0   \n",
       "1                 -12.0                   89.0                -47.0   \n",
       "2                -200.0                   34.0               -148.0   \n",
       "\n",
       "   transit_weekly_change  work_weekly_change  home_weekly_change       phi  \\\n",
       "0                  -11.0                16.0                -1.0  0.000007   \n",
       "1                  -97.0               -24.0                21.0  0.000301   \n",
       "2                 -263.0              -220.0               103.0  0.000581   \n",
       "\n",
       "   est_inf_per_100k  \n",
       "0         30.145102  \n",
       "1         58.060515  \n",
       "2        143.661874  "
      ]
     },
     "execution_count": 52,
     "metadata": {},
     "output_type": "execute_result"
    }
   ],
   "source": [
    "df_gmd_and_infections_no_date.head(3)"
   ]
  },
  {
   "cell_type": "markdown",
   "metadata": {},
   "source": [
    "### Manual multivariate linear regression\n",
    "modified from <html>https://medium.com/we-are-orb/multivariate-linear-regression-in-python-without-scikit-learn-7091b1d45905</html>"
   ]
  },
  {
   "cell_type": "code",
   "execution_count": 53,
   "metadata": {},
   "outputs": [
    {
     "data": {
      "text/html": [
       "<div>\n",
       "<style scoped>\n",
       "    .dataframe tbody tr th:only-of-type {\n",
       "        vertical-align: middle;\n",
       "    }\n",
       "\n",
       "    .dataframe tbody tr th {\n",
       "        vertical-align: top;\n",
       "    }\n",
       "\n",
       "    .dataframe thead th {\n",
       "        text-align: right;\n",
       "    }\n",
       "</style>\n",
       "<table border=\"1\" class=\"dataframe\">\n",
       "  <thead>\n",
       "    <tr style=\"text-align: right;\">\n",
       "      <th></th>\n",
       "      <th>retail_weekly_change</th>\n",
       "      <th>grocery_weekly_change</th>\n",
       "      <th>parks_weekly_change</th>\n",
       "      <th>transit_weekly_change</th>\n",
       "      <th>work_weekly_change</th>\n",
       "      <th>home_weekly_change</th>\n",
       "      <th>phi</th>\n",
       "      <th>est_inf_per_100k</th>\n",
       "    </tr>\n",
       "  </thead>\n",
       "  <tbody>\n",
       "    <tr>\n",
       "      <td>0</td>\n",
       "      <td>3.239396</td>\n",
       "      <td>2.391153</td>\n",
       "      <td>1.171323</td>\n",
       "      <td>4.278345</td>\n",
       "      <td>3.959665</td>\n",
       "      <td>-3.097598</td>\n",
       "      <td>-1.816440</td>\n",
       "      <td>-1.555164</td>\n",
       "    </tr>\n",
       "    <tr>\n",
       "      <td>1</td>\n",
       "      <td>2.699293</td>\n",
       "      <td>3.511598</td>\n",
       "      <td>0.174470</td>\n",
       "      <td>2.952899</td>\n",
       "      <td>3.359499</td>\n",
       "      <td>-2.355523</td>\n",
       "      <td>-1.634534</td>\n",
       "      <td>-1.403799</td>\n",
       "    </tr>\n",
       "    <tr>\n",
       "      <td>2</td>\n",
       "      <td>0.281687</td>\n",
       "      <td>2.253956</td>\n",
       "      <td>-0.708706</td>\n",
       "      <td>0.394478</td>\n",
       "      <td>0.418687</td>\n",
       "      <td>0.410390</td>\n",
       "      <td>-1.461820</td>\n",
       "      <td>-0.939643</td>\n",
       "    </tr>\n",
       "  </tbody>\n",
       "</table>\n",
       "</div>"
      ],
      "text/plain": [
       "   retail_weekly_change  grocery_weekly_change  parks_weekly_change  \\\n",
       "0              3.239396               2.391153             1.171323   \n",
       "1              2.699293               3.511598             0.174470   \n",
       "2              0.281687               2.253956            -0.708706   \n",
       "\n",
       "   transit_weekly_change  work_weekly_change  home_weekly_change       phi  \\\n",
       "0               4.278345            3.959665           -3.097598 -1.816440   \n",
       "1               2.952899            3.359499           -2.355523 -1.634534   \n",
       "2               0.394478            0.418687            0.410390 -1.461820   \n",
       "\n",
       "   est_inf_per_100k  \n",
       "0         -1.555164  \n",
       "1         -1.403799  \n",
       "2         -0.939643  "
      ]
     },
     "execution_count": 53,
     "metadata": {},
     "output_type": "execute_result"
    }
   ],
   "source": [
    "# normalize the features using mean normalization\n",
    "df_gmd_and_infections_no_date_normalized = (df_gmd_and_infections_no_date - df_gmd_and_infections_no_date.mean())/df_gmd_and_infections_no_date.std()\n",
    "df_gmd_and_infections_no_date_normalized.head(3)"
   ]
  },
  {
   "cell_type": "code",
   "execution_count": 54,
   "metadata": {},
   "outputs": [],
   "source": [
    "#setting the matrixes\n",
    "X = df_gmd_and_infections_no_date_normalized.iloc[:,0:7]\n",
    "ones = np.ones([X.shape[0],1])\n",
    "X = np.concatenate((ones,X),axis=1)\n",
    "\n",
    "y = df_gmd_and_infections_no_date_normalized.iloc[:,7:8].values #.values converts it from pandas.core.frame.DataFrame to numpy.ndarray\n",
    "theta = np.zeros([1,8])\n",
    "\n",
    "#set hyper parameters\n",
    "alpha = .3\n",
    "iters = 1000"
   ]
  },
  {
   "cell_type": "code",
   "execution_count": 55,
   "metadata": {},
   "outputs": [],
   "source": [
    "def computeCost(X,y,theta):\n",
    "    tobesummed = np.power(((X @ theta.T)-y),2)\n",
    "    return np.sum(tobesummed)/(2 * len(X))"
   ]
  },
  {
   "cell_type": "code",
   "execution_count": 56,
   "metadata": {},
   "outputs": [
    {
     "name": "stdout",
     "output_type": "stream",
     "text": [
      "[[-5.23390854e-16  3.24258447e-01  2.01659934e-01 -5.93941526e-03\n",
      "  -4.44297081e-01  1.80880255e-01  2.18050507e-01  8.69584019e-01]]\n",
      "0.08969191062659856\n"
     ]
    }
   ],
   "source": [
    "def gradientDescent(X,y,theta,iters,alpha):\n",
    "    cost = np.zeros(iters)\n",
    "    for i in range(iters):\n",
    "        theta = theta - (alpha/len(X)) * np.sum(X * (X @ theta.T - y), axis=0)\n",
    "        cost[i] = computeCost(X, y, theta)\n",
    "    \n",
    "    return theta,cost\n",
    "\n",
    "#running the gd and cost function\n",
    "g,cost = gradientDescent(X,y,theta,iters,alpha)\n",
    "print(g)\n",
    "\n",
    "finalCost = computeCost(X,y,g)\n",
    "print(finalCost)"
   ]
  },
  {
   "cell_type": "code",
   "execution_count": 57,
   "metadata": {},
   "outputs": [
    {
     "data": {
      "text/plain": [
       "Text(0.5, 1.0, 'Error vs. Training Epoch')"
      ]
     },
     "execution_count": 57,
     "metadata": {},
     "output_type": "execute_result"
    },
    {
     "data": {
      "image/png": "[encoded data removed]",
      "text/plain": [
       "<Figure size 432x288 with 1 Axes>"
      ]
     },
     "metadata": {
      "needs_background": "light"
     },
     "output_type": "display_data"
    }
   ],
   "source": [
    "fig, ax = plt.subplots()  \n",
    "ax.plot(np.arange(iters), cost, 'r')  \n",
    "ax.set_xlabel('Iterations')  \n",
    "ax.set_ylabel('Cost')  \n",
    "ax.set_title('Error vs. Training Epoch')  "
   ]
  },
  {
   "cell_type": "code",
   "execution_count": 58,
   "metadata": {},
   "outputs": [
    {
     "data": {
      "text/plain": [
       "['California',\n",
       " -5.233908544661449e-16,\n",
       " 0.3242584467306371,\n",
       " 0.2016599339450054,\n",
       " -0.005939415262872657,\n",
       " -0.4442970809219662,\n",
       " 0.1808802550527583,\n",
       " 0.21805050666845335,\n",
       " 0.8695840189519322]"
      ]
     },
     "execution_count": 58,
     "metadata": {},
     "output_type": "execute_result"
    }
   ],
   "source": [
    "thetas_lst = g.tolist()[0]\n",
    "thetas_lst.insert(0,input_state)\n",
    "thetas_lst"
   ]
  },
  {
   "cell_type": "code",
   "execution_count": 59,
   "metadata": {},
   "outputs": [],
   "source": [
    "columns=['state','y_intercept', 'theta_retail', 'theta_grocery',' theta_parks', 'theta_transit','theta_work','theta_home','theta_phi']\n",
    "theta_df = pd.DataFrame(columns=columns)"
   ]
  },
  {
   "cell_type": "code",
   "execution_count": 60,
   "metadata": {},
   "outputs": [
    {
     "data": {
      "text/plain": [
       "{'state': 'California',\n",
       " 'y_intercept': -5.233908544661449e-16,\n",
       " 'theta_retail': 0.3242584467306371,\n",
       " 'theta_grocery': 0.2016599339450054,\n",
       " ' theta_parks': -0.005939415262872657,\n",
       " 'theta_transit': -0.4442970809219662,\n",
       " 'theta_work': 0.1808802550527583,\n",
       " 'theta_home': 0.21805050666845335,\n",
       " 'theta_phi': 0.8695840189519322}"
      ]
     },
     "execution_count": 60,
     "metadata": {},
     "output_type": "execute_result"
    }
   ],
   "source": [
    "thetas_dict = dict(zip(columns, thetas_lst))\n",
    "thetas_dict"
   ]
  },
  {
   "cell_type": "code",
   "execution_count": 61,
   "metadata": {},
   "outputs": [],
   "source": [
    "theta_df = theta_df.append(thetas_dict, ignore_index=True)"
   ]
  },
  {
   "cell_type": "code",
   "execution_count": 62,
   "metadata": {},
   "outputs": [
    {
     "data": {
      "text/html": [
       "<div>\n",
       "<style scoped>\n",
       "    .dataframe tbody tr th:only-of-type {\n",
       "        vertical-align: middle;\n",
       "    }\n",
       "\n",
       "    .dataframe tbody tr th {\n",
       "        vertical-align: top;\n",
       "    }\n",
       "\n",
       "    .dataframe thead th {\n",
       "        text-align: right;\n",
       "    }\n",
       "</style>\n",
       "<table border=\"1\" class=\"dataframe\">\n",
       "  <thead>\n",
       "    <tr style=\"text-align: right;\">\n",
       "      <th></th>\n",
       "      <th>retail_weekly_change</th>\n",
       "      <th>grocery_weekly_change</th>\n",
       "      <th>parks_weekly_change</th>\n",
       "      <th>transit_weekly_change</th>\n",
       "      <th>work_weekly_change</th>\n",
       "      <th>home_weekly_change</th>\n",
       "      <th>phi</th>\n",
       "      <th>est_inf_per_100k</th>\n",
       "    </tr>\n",
       "  </thead>\n",
       "  <tbody>\n",
       "    <tr>\n",
       "      <td>0</td>\n",
       "      <td>30.0</td>\n",
       "      <td>40.0</td>\n",
       "      <td>67.0</td>\n",
       "      <td>-11.0</td>\n",
       "      <td>16.0</td>\n",
       "      <td>-1.0</td>\n",
       "      <td>0.000007</td>\n",
       "      <td>30.145102</td>\n",
       "    </tr>\n",
       "    <tr>\n",
       "      <td>1</td>\n",
       "      <td>-12.0</td>\n",
       "      <td>89.0</td>\n",
       "      <td>-47.0</td>\n",
       "      <td>-97.0</td>\n",
       "      <td>-24.0</td>\n",
       "      <td>21.0</td>\n",
       "      <td>0.000301</td>\n",
       "      <td>58.060515</td>\n",
       "    </tr>\n",
       "    <tr>\n",
       "      <td>2</td>\n",
       "      <td>-200.0</td>\n",
       "      <td>34.0</td>\n",
       "      <td>-148.0</td>\n",
       "      <td>-263.0</td>\n",
       "      <td>-220.0</td>\n",
       "      <td>103.0</td>\n",
       "      <td>0.000581</td>\n",
       "      <td>143.661874</td>\n",
       "    </tr>\n",
       "  </tbody>\n",
       "</table>\n",
       "</div>"
      ],
      "text/plain": [
       "   retail_weekly_change  grocery_weekly_change  parks_weekly_change  \\\n",
       "0                  30.0                   40.0                 67.0   \n",
       "1                 -12.0                   89.0                -47.0   \n",
       "2                -200.0                   34.0               -148.0   \n",
       "\n",
       "   transit_weekly_change  work_weekly_change  home_weekly_change       phi  \\\n",
       "0                  -11.0                16.0                -1.0  0.000007   \n",
       "1                  -97.0               -24.0                21.0  0.000301   \n",
       "2                 -263.0              -220.0               103.0  0.000581   \n",
       "\n",
       "   est_inf_per_100k  \n",
       "0         30.145102  \n",
       "1         58.060515  \n",
       "2        143.661874  "
      ]
     },
     "execution_count": 62,
     "metadata": {},
     "output_type": "execute_result"
    }
   ],
   "source": [
    "df_gmd_and_infections_no_date.head(3)"
   ]
  },
  {
   "cell_type": "code",
   "execution_count": 63,
   "metadata": {},
   "outputs": [
    {
     "data": {
      "text/plain": [
       "'California'"
      ]
     },
     "execution_count": 63,
     "metadata": {},
     "output_type": "execute_result"
    }
   ],
   "source": [
    "input_state"
   ]
  },
  {
   "cell_type": "code",
   "execution_count": 64,
   "metadata": {},
   "outputs": [],
   "source": [
    "columns = ['state','retail_weekly_change','grocery_weekly_change','parks_weekly_change','transit_weekly_change',\n",
    "           'work_weekly_change','home_weekly_change','phi','est_inf_per_100k']"
   ]
  },
  {
   "cell_type": "code",
   "execution_count": 65,
   "metadata": {},
   "outputs": [
    {
     "data": {
      "text/html": [
       "<div>\n",
       "<style scoped>\n",
       "    .dataframe tbody tr th:only-of-type {\n",
       "        vertical-align: middle;\n",
       "    }\n",
       "\n",
       "    .dataframe tbody tr th {\n",
       "        vertical-align: top;\n",
       "    }\n",
       "\n",
       "    .dataframe thead th {\n",
       "        text-align: right;\n",
       "    }\n",
       "</style>\n",
       "<table border=\"1\" class=\"dataframe\">\n",
       "  <thead>\n",
       "    <tr style=\"text-align: right;\">\n",
       "      <th></th>\n",
       "      <th>state</th>\n",
       "      <th>retail_weekly_change</th>\n",
       "      <th>grocery_weekly_change</th>\n",
       "      <th>parks_weekly_change</th>\n",
       "      <th>transit_weekly_change</th>\n",
       "      <th>work_weekly_change</th>\n",
       "      <th>home_weekly_change</th>\n",
       "      <th>phi</th>\n",
       "      <th>est_inf_per_100k</th>\n",
       "    </tr>\n",
       "  </thead>\n",
       "  <tbody>\n",
       "    <tr>\n",
       "      <td>0</td>\n",
       "      <td>California</td>\n",
       "      <td>-221.904762</td>\n",
       "      <td>-64.571429</td>\n",
       "      <td>-66.952381</td>\n",
       "      <td>-288.595238</td>\n",
       "      <td>-247.904762</td>\n",
       "      <td>90.833333</td>\n",
       "      <td>0.002943</td>\n",
       "      <td>316.954603</td>\n",
       "    </tr>\n",
       "  </tbody>\n",
       "</table>\n",
       "</div>"
      ],
      "text/plain": [
       "        state  retail_weekly_change  grocery_weekly_change  \\\n",
       "0  California           -221.904762             -64.571429   \n",
       "\n",
       "   parks_weekly_change  transit_weekly_change  work_weekly_change  \\\n",
       "0           -66.952381            -288.595238         -247.904762   \n",
       "\n",
       "   home_weekly_change       phi  est_inf_per_100k  \n",
       "0           90.833333  0.002943        316.954603  "
      ]
     },
     "execution_count": 65,
     "metadata": {},
     "output_type": "execute_result"
    }
   ],
   "source": [
    "model_data_means_series = df_gmd_and_infections_no_date.mean(axis=0)\n",
    "model_data_means_lst = model_data_means_series.tolist()\n",
    "model_data_means_lst.insert(0,input_state)\n",
    "model_data_means_dic = dict(zip(columns,model_data_means_lst))\n",
    "df_model_means = pd.DataFrame(columns=columns)\n",
    "df_model_means.append(model_data_means_dic, ignore_index=True)"
   ]
  },
  {
   "cell_type": "code",
   "execution_count": 66,
   "metadata": {},
   "outputs": [
    {
     "data": {
      "text/html": [
       "<div>\n",
       "<style scoped>\n",
       "    .dataframe tbody tr th:only-of-type {\n",
       "        vertical-align: middle;\n",
       "    }\n",
       "\n",
       "    .dataframe tbody tr th {\n",
       "        vertical-align: top;\n",
       "    }\n",
       "\n",
       "    .dataframe thead th {\n",
       "        text-align: right;\n",
       "    }\n",
       "</style>\n",
       "<table border=\"1\" class=\"dataframe\">\n",
       "  <thead>\n",
       "    <tr style=\"text-align: right;\">\n",
       "      <th></th>\n",
       "      <th>state</th>\n",
       "      <th>retail_weekly_change</th>\n",
       "      <th>grocery_weekly_change</th>\n",
       "      <th>parks_weekly_change</th>\n",
       "      <th>transit_weekly_change</th>\n",
       "      <th>work_weekly_change</th>\n",
       "      <th>home_weekly_change</th>\n",
       "      <th>phi</th>\n",
       "      <th>est_inf_per_100k</th>\n",
       "    </tr>\n",
       "  </thead>\n",
       "  <tbody>\n",
       "    <tr>\n",
       "      <td>0</td>\n",
       "      <td>California</td>\n",
       "      <td>77.76287</td>\n",
       "      <td>43.732637</td>\n",
       "      <td>114.359927</td>\n",
       "      <td>64.883783</td>\n",
       "      <td>66.648261</td>\n",
       "      <td>29.646632</td>\n",
       "      <td>0.001616</td>\n",
       "      <td>184.423964</td>\n",
       "    </tr>\n",
       "  </tbody>\n",
       "</table>\n",
       "</div>"
      ],
      "text/plain": [
       "        state  retail_weekly_change  grocery_weekly_change  \\\n",
       "0  California              77.76287              43.732637   \n",
       "\n",
       "   parks_weekly_change  transit_weekly_change  work_weekly_change  \\\n",
       "0           114.359927              64.883783           66.648261   \n",
       "\n",
       "   home_weekly_change       phi  est_inf_per_100k  \n",
       "0           29.646632  0.001616        184.423964  "
      ]
     },
     "execution_count": 66,
     "metadata": {},
     "output_type": "execute_result"
    }
   ],
   "source": [
    "model_data_std_series = df_gmd_and_infections_no_date.std(axis=0)\n",
    "model_data_std_lst = model_data_std_series.tolist()\n",
    "model_data_std_lst.insert(0,input_state)\n",
    "model_data_std_dic = dict(zip(columns,model_data_std_lst))\n",
    "df_model_std = pd.DataFrame(columns=columns)\n",
    "df_model_std.append(model_data_std_dic, ignore_index=True)"
   ]
  },
  {
   "cell_type": "code",
   "execution_count": 67,
   "metadata": {},
   "outputs": [],
   "source": [
    "# DF of the input features (GMD 0-6 and phi)\n",
    "test_df = pd.DataFrame(X[:,1:8])"
   ]
  },
  {
   "cell_type": "code",
   "execution_count": 68,
   "metadata": {},
   "outputs": [
    {
     "data": {
      "text/plain": [
       "y_intercept     -5.23391e-16\n",
       "theta_retail        0.324258\n",
       "theta_grocery        0.20166\n",
       " theta_parks     -0.00593942\n",
       "theta_transit      -0.444297\n",
       "theta_work           0.18088\n",
       "theta_home          0.218051\n",
       "theta_phi           0.869584\n",
       "Name: 0, dtype: object"
      ]
     },
     "execution_count": 68,
     "metadata": {},
     "output_type": "execute_result"
    }
   ],
   "source": [
    "theta_df.iloc[0,1:9]"
   ]
  },
  {
   "cell_type": "code",
   "execution_count": 69,
   "metadata": {},
   "outputs": [],
   "source": [
    "ones = np.ones([test_df.shape[0],1])\n",
    "test_df = np.concatenate((ones,test_df),axis=1)"
   ]
  },
  {
   "cell_type": "code",
   "execution_count": 70,
   "metadata": {},
   "outputs": [
    {
     "data": {
      "text/html": [
       "<div>\n",
       "<style scoped>\n",
       "    .dataframe tbody tr th:only-of-type {\n",
       "        vertical-align: middle;\n",
       "    }\n",
       "\n",
       "    .dataframe tbody tr th {\n",
       "        vertical-align: top;\n",
       "    }\n",
       "\n",
       "    .dataframe thead th {\n",
       "        text-align: right;\n",
       "    }\n",
       "</style>\n",
       "<table border=\"1\" class=\"dataframe\">\n",
       "  <thead>\n",
       "    <tr style=\"text-align: right;\">\n",
       "      <th></th>\n",
       "      <th>0</th>\n",
       "      <th>1</th>\n",
       "      <th>2</th>\n",
       "      <th>3</th>\n",
       "      <th>4</th>\n",
       "      <th>5</th>\n",
       "      <th>6</th>\n",
       "      <th>7</th>\n",
       "    </tr>\n",
       "  </thead>\n",
       "  <tbody>\n",
       "    <tr>\n",
       "      <td>0</td>\n",
       "      <td>1.0</td>\n",
       "      <td>3.239396</td>\n",
       "      <td>2.391153</td>\n",
       "      <td>1.171323</td>\n",
       "      <td>4.278345</td>\n",
       "      <td>3.959665</td>\n",
       "      <td>-3.097598</td>\n",
       "      <td>-1.816440</td>\n",
       "    </tr>\n",
       "    <tr>\n",
       "      <td>1</td>\n",
       "      <td>1.0</td>\n",
       "      <td>2.699293</td>\n",
       "      <td>3.511598</td>\n",
       "      <td>0.174470</td>\n",
       "      <td>2.952899</td>\n",
       "      <td>3.359499</td>\n",
       "      <td>-2.355523</td>\n",
       "      <td>-1.634534</td>\n",
       "    </tr>\n",
       "  </tbody>\n",
       "</table>\n",
       "</div>"
      ],
      "text/plain": [
       "     0         1         2         3         4         5         6         7\n",
       "0  1.0  3.239396  2.391153  1.171323  4.278345  3.959665 -3.097598 -1.816440\n",
       "1  1.0  2.699293  3.511598  0.174470  2.952899  3.359499 -2.355523 -1.634534"
      ]
     },
     "execution_count": 70,
     "metadata": {},
     "output_type": "execute_result"
    }
   ],
   "source": [
    "test_df = pd.DataFrame(test_df)\n",
    "test_df.head(2)"
   ]
  },
  {
   "cell_type": "code",
   "execution_count": 71,
   "metadata": {},
   "outputs": [],
   "source": [
    "test1 = theta_df.iloc[0,1:9].to_numpy()"
   ]
  },
  {
   "cell_type": "code",
   "execution_count": 72,
   "metadata": {},
   "outputs": [
    {
     "data": {
      "text/plain": [
       "numpy.ndarray"
      ]
     },
     "execution_count": 72,
     "metadata": {},
     "output_type": "execute_result"
    }
   ],
   "source": [
    "type(test1)"
   ]
  },
  {
   "cell_type": "code",
   "execution_count": 73,
   "metadata": {},
   "outputs": [
    {
     "name": "stdout",
     "output_type": "stream",
     "text": [
      "(42, 8)\n",
      "(8,)\n"
     ]
    }
   ],
   "source": [
    "print(test_df.shape)\n",
    "print(test1.shape)"
   ]
  },
  {
   "cell_type": "code",
   "execution_count": 74,
   "metadata": {},
   "outputs": [],
   "source": [
    "hyp_df = pd.DataFrame(test_df.dot(test1))"
   ]
  },
  {
   "cell_type": "code",
   "execution_count": 75,
   "metadata": {},
   "outputs": [
    {
     "data": {
      "text/html": [
       "<div>\n",
       "<style scoped>\n",
       "    .dataframe tbody tr th:only-of-type {\n",
       "        vertical-align: middle;\n",
       "    }\n",
       "\n",
       "    .dataframe tbody tr th {\n",
       "        vertical-align: top;\n",
       "    }\n",
       "\n",
       "    .dataframe thead th {\n",
       "        text-align: right;\n",
       "    }\n",
       "</style>\n",
       "<table border=\"1\" class=\"dataframe\">\n",
       "  <thead>\n",
       "    <tr style=\"text-align: right;\">\n",
       "      <th></th>\n",
       "      <th>0</th>\n",
       "    </tr>\n",
       "  </thead>\n",
       "  <tbody>\n",
       "    <tr>\n",
       "      <td>0</td>\n",
       "      <td>-1.91397</td>\n",
       "    </tr>\n",
       "    <tr>\n",
       "      <td>1</td>\n",
       "      <td>-1.0569</td>\n",
       "    </tr>\n",
       "  </tbody>\n",
       "</table>\n",
       "</div>"
      ],
      "text/plain": [
       "         0\n",
       "0 -1.91397\n",
       "1  -1.0569"
      ]
     },
     "execution_count": 75,
     "metadata": {},
     "output_type": "execute_result"
    }
   ],
   "source": [
    "hyp_df.head(2)"
   ]
  },
  {
   "cell_type": "code",
   "execution_count": 76,
   "metadata": {},
   "outputs": [],
   "source": [
    "hyp_df['y'] = y"
   ]
  },
  {
   "cell_type": "code",
   "execution_count": 77,
   "metadata": {},
   "outputs": [
    {
     "data": {
      "text/plain": [
       "<matplotlib.collections.PathCollection at 0x7f9b2ad5fdd0>"
      ]
     },
     "execution_count": 77,
     "metadata": {},
     "output_type": "execute_result"
    },
    {
     "data": {
      "image/png": "[encoded data removed]",
      "text/plain": [
       "<Figure size 432x288 with 1 Axes>"
      ]
     },
     "metadata": {
      "needs_background": "light"
     },
     "output_type": "display_data"
    }
   ],
   "source": [
    "plt.scatter(hyp_df.iloc[:,0], hyp_df.iloc[0:,1])"
   ]
  },
  {
   "cell_type": "code",
   "execution_count": 78,
   "metadata": {},
   "outputs": [
    {
     "data": {
      "text/plain": [
       "<matplotlib.legend.Legend at 0x7f9b2af29cd0>"
      ]
     },
     "execution_count": 78,
     "metadata": {},
     "output_type": "execute_result"
    },
    {
     "data": {
      "text/plain": [
       "<Figure size 432x288 with 0 Axes>"
      ]
     },
     "metadata": {},
     "output_type": "display_data"
    },
    {
     "data": {
      "image/png": "[encoded data removed]",
      "text/plain": [
       "<Figure size 432x288 with 1 Axes>"
      ]
     },
     "metadata": {
      "needs_background": "light"
     },
     "output_type": "display_data"
    }
   ],
   "source": [
    "plt.figure(); hyp_df.plot(); plt.legend(loc='best')"
   ]
  },
  {
   "cell_type": "code",
   "execution_count": null,
   "metadata": {},
   "outputs": [],
   "source": []
  },
  {
   "cell_type": "code",
   "execution_count": null,
   "metadata": {},
   "outputs": [],
   "source": []
  },
  {
   "cell_type": "code",
   "execution_count": null,
   "metadata": {},
   "outputs": [],
   "source": []
  },
  {
   "cell_type": "code",
   "execution_count": null,
   "metadata": {},
   "outputs": [],
   "source": []
  },
  {
   "cell_type": "code",
   "execution_count": 79,
   "metadata": {},
   "outputs": [],
   "source": [
    "# df_gmd_and_infections_no_date_normalized = (df_gmd_and_infections_no_date - df_gmd_and_infections_no_date.mean())/df_gmd_and_infections_no_date.std()"
   ]
  }
 ],
 "metadata": {
  "kernelspec": {
   "display_name": "Python 3",
   "language": "python",
   "name": "python3"
  },
  "language_info": {
   "codemirror_mode": {
    "name": "ipython",
    "version": 3
   },
   "file_extension": ".py",
   "mimetype": "text/x-python",
   "name": "python",
   "nbconvert_exporter": "python",
   "pygments_lexer": "ipython3",
   "version": "3.7.4"
  }
 },
 "nbformat": 4,
 "nbformat_minor": 4
}
