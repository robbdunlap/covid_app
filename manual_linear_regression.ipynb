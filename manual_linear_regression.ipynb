{
 "cells": [
  {
   "cell_type": "code",
   "execution_count": 1474,
   "metadata": {},
   "outputs": [],
   "source": [
    "import pandas as pd\n",
    "import numpy as np\n",
    "import matplotlib.pyplot as plt\n",
    "from sklearn.linear_model import LinearRegression\n",
    "from sklearn.model_selection import train_test_split\n",
    "from sklearn.pipeline import make_pipeline\n",
    "from sklearn.preprocessing import StandardScaler\n",
    "\n",
    "import statsmodels.api as sm\n"
   ]
  },
  {
   "cell_type": "markdown",
   "metadata": {},
   "source": [
    "### Import both GMD and weekly estimated cases"
   ]
  },
  {
   "cell_type": "code",
   "execution_count": 1475,
   "metadata": {},
   "outputs": [],
   "source": [
    "all_state_mob_data = pd.read_csv(\"data/all_state_mob_data.csv\")\n",
    "weekly_est_cases_deaths = pd.read_csv(\"data/weekly_est_cases_deaths.csv\")\n",
    "\n",
    "all_state_mob_data['date'] = pd.to_datetime(all_state_mob_data['date'])\n",
    "weekly_est_cases_deaths['date'] = pd.to_datetime(weekly_est_cases_deaths['date'])"
   ]
  },
  {
   "cell_type": "code",
   "execution_count": 1476,
   "metadata": {
    "collapsed": true,
    "jupyter": {
     "outputs_hidden": true
    }
   },
   "outputs": [
    {
     "name": "stdout",
     "output_type": "stream",
     "text": [
      "<class 'pandas.core.frame.DataFrame'>\n",
      "RangeIndex: 2154 entries, 0 to 2153\n",
      "Data columns (total 25 columns):\n",
      "state                       2154 non-null object\n",
      "date                        2154 non-null datetime64[ns]\n",
      "new_cases_jhu               2154 non-null int64\n",
      "new_deaths_jhu              2154 non-null int64\n",
      "Excess Lower Estimate       2103 non-null float64\n",
      "Excess Higher Estimate      2103 non-null float64\n",
      "mid_point_xs_deaths         2103 non-null float64\n",
      "corr_new_deaths             2154 non-null float64\n",
      "est_inf                     2052 non-null float64\n",
      "pro_chg_est_inf             2017 non-null float64\n",
      "mobile_infectious           2035 non-null float64\n",
      "phi                         2035 non-null float64\n",
      "population                  2154 non-null int64\n",
      "est_inf_per_100k            2052 non-null float64\n",
      "new_cases_per_100k          2154 non-null float64\n",
      "state_id                    2154 non-null object\n",
      "rho                         2154 non-null float64\n",
      "weekly_exposures            2154 non-null float64\n",
      "pro_chg_weekly_exposures    2154 non-null float64\n",
      "density_cor_exposure        2154 non-null float64\n",
      "psi                         1942 non-null float64\n",
      "enc_w_inf                   2035 non-null float64\n",
      "new_results_reported        2154 non-null int64\n",
      "positive_results            2154 non-null int64\n",
      "test_positivity_rate        2154 non-null float64\n",
      "dtypes: datetime64[ns](1), float64(17), int64(5), object(2)\n",
      "memory usage: 420.8+ KB\n"
     ]
    }
   ],
   "source": [
    "weekly_est_cases_deaths.info()"
   ]
  },
  {
   "cell_type": "markdown",
   "metadata": {},
   "source": [
    "### Select only the change from baseline data from the Google Mobility Data and then sum by week"
   ]
  },
  {
   "cell_type": "code",
   "execution_count": 1477,
   "metadata": {},
   "outputs": [],
   "source": [
    "all_state_mob_data['date'] = pd.to_datetime(all_state_mob_data['date'])\n",
    "mob_data = all_state_mob_data.iloc[:,0:8].copy()\n",
    "name_change_dict = {\n",
    "    'retail_and_recreation_percent_change_from_baseline':'retail_weekly_change',\n",
    "    'grocery_and_pharmacy_percent_change_from_baseline':'grocery_weekly_change',\n",
    "    'parks_percent_change_from_baseline':'parks_weekly_change',\n",
    "    'transit_stations_percent_change_from_baseline':'transit_weekly_change',\n",
    "    'workplaces_percent_change_from_baseline':'work_weekly_change',\n",
    "    'residential_percent_change_from_baseline':'home_weekly_change'\n",
    "}\n",
    "weekly_mobility_data = mob_data.groupby('sub_region_1').resample('W-SAT', on='date').sum()\n",
    "weekly_mobility_data.rename(columns=name_change_dict, inplace=True)\n",
    "weekly_mobility_data.reset_index(inplace=True)"
   ]
  },
  {
   "cell_type": "code",
   "execution_count": 1478,
   "metadata": {},
   "outputs": [
    {
     "data": {
      "text/html": [
       "<div>\n",
       "<style scoped>\n",
       "    .dataframe tbody tr th:only-of-type {\n",
       "        vertical-align: middle;\n",
       "    }\n",
       "\n",
       "    .dataframe tbody tr th {\n",
       "        vertical-align: top;\n",
       "    }\n",
       "\n",
       "    .dataframe thead th {\n",
       "        text-align: right;\n",
       "    }\n",
       "</style>\n",
       "<table border=\"1\" class=\"dataframe\">\n",
       "  <thead>\n",
       "    <tr style=\"text-align: right;\">\n",
       "      <th></th>\n",
       "      <th>sub_region_1</th>\n",
       "      <th>date</th>\n",
       "      <th>retail_weekly_change</th>\n",
       "      <th>grocery_weekly_change</th>\n",
       "      <th>parks_weekly_change</th>\n",
       "      <th>transit_weekly_change</th>\n",
       "      <th>work_weekly_change</th>\n",
       "      <th>home_weekly_change</th>\n",
       "    </tr>\n",
       "  </thead>\n",
       "  <tbody>\n",
       "    <tr>\n",
       "      <td>0</td>\n",
       "      <td>Alabama</td>\n",
       "      <td>2020-02-15</td>\n",
       "      <td>5.0</td>\n",
       "      <td>2.0</td>\n",
       "      <td>39.0</td>\n",
       "      <td>7.0</td>\n",
       "      <td>2.0</td>\n",
       "      <td>-1.0</td>\n",
       "    </tr>\n",
       "    <tr>\n",
       "      <td>1</td>\n",
       "      <td>Alabama</td>\n",
       "      <td>2020-02-22</td>\n",
       "      <td>4.0</td>\n",
       "      <td>-6.0</td>\n",
       "      <td>38.0</td>\n",
       "      <td>34.0</td>\n",
       "      <td>-9.0</td>\n",
       "      <td>9.0</td>\n",
       "    </tr>\n",
       "    <tr>\n",
       "      <td>2</td>\n",
       "      <td>Alabama</td>\n",
       "      <td>2020-02-29</td>\n",
       "      <td>63.0</td>\n",
       "      <td>29.0</td>\n",
       "      <td>134.0</td>\n",
       "      <td>75.0</td>\n",
       "      <td>7.0</td>\n",
       "      <td>-4.0</td>\n",
       "    </tr>\n",
       "    <tr>\n",
       "      <td>3</td>\n",
       "      <td>Alabama</td>\n",
       "      <td>2020-03-07</td>\n",
       "      <td>79.0</td>\n",
       "      <td>47.0</td>\n",
       "      <td>168.0</td>\n",
       "      <td>65.0</td>\n",
       "      <td>19.0</td>\n",
       "      <td>-4.0</td>\n",
       "    </tr>\n",
       "    <tr>\n",
       "      <td>4</td>\n",
       "      <td>Alabama</td>\n",
       "      <td>2020-03-14</td>\n",
       "      <td>59.0</td>\n",
       "      <td>114.0</td>\n",
       "      <td>272.0</td>\n",
       "      <td>67.0</td>\n",
       "      <td>10.0</td>\n",
       "      <td>-4.0</td>\n",
       "    </tr>\n",
       "  </tbody>\n",
       "</table>\n",
       "</div>"
      ],
      "text/plain": [
       "  sub_region_1       date  retail_weekly_change  grocery_weekly_change  \\\n",
       "0      Alabama 2020-02-15                   5.0                    2.0   \n",
       "1      Alabama 2020-02-22                   4.0                   -6.0   \n",
       "2      Alabama 2020-02-29                  63.0                   29.0   \n",
       "3      Alabama 2020-03-07                  79.0                   47.0   \n",
       "4      Alabama 2020-03-14                  59.0                  114.0   \n",
       "\n",
       "   parks_weekly_change  transit_weekly_change  work_weekly_change  \\\n",
       "0                 39.0                    7.0                 2.0   \n",
       "1                 38.0                   34.0                -9.0   \n",
       "2                134.0                   75.0                 7.0   \n",
       "3                168.0                   65.0                19.0   \n",
       "4                272.0                   67.0                10.0   \n",
       "\n",
       "   home_weekly_change  \n",
       "0                -1.0  \n",
       "1                 9.0  \n",
       "2                -4.0  \n",
       "3                -4.0  \n",
       "4                -4.0  "
      ]
     },
     "execution_count": 1478,
     "metadata": {},
     "output_type": "execute_result"
    }
   ],
   "source": [
    "weekly_mobility_data.head()"
   ]
  },
  {
   "cell_type": "markdown",
   "metadata": {},
   "source": [
    "### Select only state, date, estimated infections per 100k population, and phi from esimated infections data by state"
   ]
  },
  {
   "cell_type": "code",
   "execution_count": 1752,
   "metadata": {},
   "outputs": [],
   "source": [
    "input_state = 'Wisconsin'"
   ]
  },
  {
   "cell_type": "code",
   "execution_count": 1753,
   "metadata": {},
   "outputs": [],
   "source": [
    "# limit the date range to a 'no-earlier-than' date (filter is applied directly below and for the GMD specified state/date range filter)\n",
    "date_selector = pd.to_datetime('2020-02-28')"
   ]
  },
  {
   "cell_type": "code",
   "execution_count": 1754,
   "metadata": {},
   "outputs": [],
   "source": [
    "weekly_for_state = weekly_est_cases_deaths[(weekly_est_cases_deaths['state'] == input_state) & (weekly_est_cases_deaths['date'] > date_selector)].copy()\n",
    "weekly_for_state = weekly_for_state[['state','date','est_inf_per_100k','phi']]"
   ]
  },
  {
   "cell_type": "markdown",
   "metadata": {},
   "source": [
    "### Select GMD for the specified state"
   ]
  },
  {
   "cell_type": "code",
   "execution_count": 1755,
   "metadata": {},
   "outputs": [],
   "source": [
    "weekly_mobility_data_for_state = weekly_mobility_data[(weekly_mobility_data['sub_region_1'] == input_state)& (weekly_mobility_data['date'] > date_selector)].copy()\n",
    "del weekly_mobility_data_for_state['sub_region_1']"
   ]
  },
  {
   "cell_type": "markdown",
   "metadata": {},
   "source": [
    "### Merge the two data sets"
   ]
  },
  {
   "cell_type": "code",
   "execution_count": 1756,
   "metadata": {},
   "outputs": [],
   "source": [
    "df_gmd_and_infections = pd.merge(weekly_for_state, weekly_mobility_data_for_state, how='inner', left_on=['date'], right_on=['date'])"
   ]
  },
  {
   "cell_type": "code",
   "execution_count": 1757,
   "metadata": {},
   "outputs": [],
   "source": [
    "cols_order_change = ['date',\n",
    " 'retail_weekly_change',\n",
    " 'grocery_weekly_change',\n",
    " 'parks_weekly_change',\n",
    " 'transit_weekly_change',\n",
    " 'work_weekly_change',\n",
    " 'home_weekly_change',\n",
    "'phi',\n",
    "'est_inf_per_100k',]"
   ]
  },
  {
   "cell_type": "code",
   "execution_count": 1758,
   "metadata": {},
   "outputs": [],
   "source": [
    "df_gmd_and_infections = df_gmd_and_infections[cols_order_change]\n",
    "df_gmd_and_infections.dropna(inplace=True)"
   ]
  },
  {
   "cell_type": "markdown",
   "metadata": {},
   "source": [
    "## Generate the X training set for the linear regression model"
   ]
  },
  {
   "cell_type": "code",
   "execution_count": 1759,
   "metadata": {},
   "outputs": [],
   "source": [
    "X = df_gmd_and_infections[[\n",
    " 'retail_weekly_change',\n",
    " 'grocery_weekly_change',\n",
    " 'parks_weekly_change',\n",
    " 'transit_weekly_change',\n",
    " 'work_weekly_change',\n",
    " 'home_weekly_change',\n",
    "'phi']]\n",
    "y = df_gmd_and_infections['est_inf_per_100k']"
   ]
  },
  {
   "cell_type": "markdown",
   "metadata": {},
   "source": [
    "#### Manual method for generating a scaled X set - ignore because now I've setup the pipeline"
   ]
  },
  {
   "cell_type": "code",
   "execution_count": 1760,
   "metadata": {},
   "outputs": [],
   "source": [
    "df_gmd_and_infections_no_date = df_gmd_and_infections.copy()\n",
    "del df_gmd_and_infections_no_date['date']"
   ]
  },
  {
   "cell_type": "code",
   "execution_count": 1761,
   "metadata": {},
   "outputs": [
    {
     "data": {
      "text/html": [
       "<div>\n",
       "<style scoped>\n",
       "    .dataframe tbody tr th:only-of-type {\n",
       "        vertical-align: middle;\n",
       "    }\n",
       "\n",
       "    .dataframe tbody tr th {\n",
       "        vertical-align: top;\n",
       "    }\n",
       "\n",
       "    .dataframe thead th {\n",
       "        text-align: right;\n",
       "    }\n",
       "</style>\n",
       "<table border=\"1\" class=\"dataframe\">\n",
       "  <thead>\n",
       "    <tr style=\"text-align: right;\">\n",
       "      <th></th>\n",
       "      <th>retail_weekly_change</th>\n",
       "      <th>grocery_weekly_change</th>\n",
       "      <th>parks_weekly_change</th>\n",
       "      <th>transit_weekly_change</th>\n",
       "      <th>work_weekly_change</th>\n",
       "      <th>home_weekly_change</th>\n",
       "      <th>phi</th>\n",
       "      <th>est_inf_per_100k</th>\n",
       "    </tr>\n",
       "  </thead>\n",
       "  <tbody>\n",
       "    <tr>\n",
       "      <td>0</td>\n",
       "      <td>32.0</td>\n",
       "      <td>94.0</td>\n",
       "      <td>211.0</td>\n",
       "      <td>20.0</td>\n",
       "      <td>11.0</td>\n",
       "      <td>5.0</td>\n",
       "      <td>0.000101</td>\n",
       "      <td>108.597195</td>\n",
       "    </tr>\n",
       "    <tr>\n",
       "      <td>1</td>\n",
       "      <td>-196.0</td>\n",
       "      <td>45.0</td>\n",
       "      <td>108.0</td>\n",
       "      <td>-138.0</td>\n",
       "      <td>-146.0</td>\n",
       "      <td>77.0</td>\n",
       "      <td>0.001086</td>\n",
       "      <td>290.445542</td>\n",
       "    </tr>\n",
       "    <tr>\n",
       "      <td>2</td>\n",
       "      <td>-345.0</td>\n",
       "      <td>-139.0</td>\n",
       "      <td>159.0</td>\n",
       "      <td>-269.0</td>\n",
       "      <td>-266.0</td>\n",
       "      <td>125.0</td>\n",
       "      <td>0.002904</td>\n",
       "      <td>232.359869</td>\n",
       "    </tr>\n",
       "  </tbody>\n",
       "</table>\n",
       "</div>"
      ],
      "text/plain": [
       "   retail_weekly_change  grocery_weekly_change  parks_weekly_change  \\\n",
       "0                  32.0                   94.0                211.0   \n",
       "1                -196.0                   45.0                108.0   \n",
       "2                -345.0                 -139.0                159.0   \n",
       "\n",
       "   transit_weekly_change  work_weekly_change  home_weekly_change       phi  \\\n",
       "0                   20.0                11.0                 5.0  0.000101   \n",
       "1                 -138.0              -146.0                77.0  0.001086   \n",
       "2                 -269.0              -266.0               125.0  0.002904   \n",
       "\n",
       "   est_inf_per_100k  \n",
       "0        108.597195  \n",
       "1        290.445542  \n",
       "2        232.359869  "
      ]
     },
     "execution_count": 1761,
     "metadata": {},
     "output_type": "execute_result"
    }
   ],
   "source": [
    "df_gmd_and_infections_no_date.head(3)"
   ]
  },
  {
   "cell_type": "markdown",
   "metadata": {},
   "source": [
    "### Manual multivariate linear regression\n",
    "modified from <html>https://medium.com/we-are-orb/multivariate-linear-regression-in-python-without-scikit-learn-7091b1d45905</html>"
   ]
  },
  {
   "cell_type": "code",
   "execution_count": 1762,
   "metadata": {},
   "outputs": [
    {
     "data": {
      "text/html": [
       "<div>\n",
       "<style scoped>\n",
       "    .dataframe tbody tr th:only-of-type {\n",
       "        vertical-align: middle;\n",
       "    }\n",
       "\n",
       "    .dataframe tbody tr th {\n",
       "        vertical-align: top;\n",
       "    }\n",
       "\n",
       "    .dataframe thead th {\n",
       "        text-align: right;\n",
       "    }\n",
       "</style>\n",
       "<table border=\"1\" class=\"dataframe\">\n",
       "  <thead>\n",
       "    <tr style=\"text-align: right;\">\n",
       "      <th></th>\n",
       "      <th>retail_weekly_change</th>\n",
       "      <th>grocery_weekly_change</th>\n",
       "      <th>parks_weekly_change</th>\n",
       "      <th>transit_weekly_change</th>\n",
       "      <th>work_weekly_change</th>\n",
       "      <th>home_weekly_change</th>\n",
       "      <th>phi</th>\n",
       "      <th>est_inf_per_100k</th>\n",
       "    </tr>\n",
       "  </thead>\n",
       "  <tbody>\n",
       "    <tr>\n",
       "      <td>0</td>\n",
       "      <td>1.537763</td>\n",
       "      <td>1.498927</td>\n",
       "      <td>-1.141712</td>\n",
       "      <td>1.510198</td>\n",
       "      <td>3.304744</td>\n",
       "      <td>-1.930318</td>\n",
       "      <td>-1.032951</td>\n",
       "      <td>-0.794194</td>\n",
       "    </tr>\n",
       "    <tr>\n",
       "      <td>1</td>\n",
       "      <td>-0.772682</td>\n",
       "      <td>0.702533</td>\n",
       "      <td>-1.308096</td>\n",
       "      <td>-0.348869</td>\n",
       "      <td>0.663640</td>\n",
       "      <td>0.434342</td>\n",
       "      <td>-0.741120</td>\n",
       "      <td>-0.261846</td>\n",
       "    </tr>\n",
       "    <tr>\n",
       "      <td>2</td>\n",
       "      <td>-2.282578</td>\n",
       "      <td>-2.288007</td>\n",
       "      <td>-1.225712</td>\n",
       "      <td>-1.890248</td>\n",
       "      <td>-1.355038</td>\n",
       "      <td>2.010782</td>\n",
       "      <td>-0.202339</td>\n",
       "      <td>-0.431888</td>\n",
       "    </tr>\n",
       "  </tbody>\n",
       "</table>\n",
       "</div>"
      ],
      "text/plain": [
       "   retail_weekly_change  grocery_weekly_change  parks_weekly_change  \\\n",
       "0              1.537763               1.498927            -1.141712   \n",
       "1             -0.772682               0.702533            -1.308096   \n",
       "2             -2.282578              -2.288007            -1.225712   \n",
       "\n",
       "   transit_weekly_change  work_weekly_change  home_weekly_change       phi  \\\n",
       "0               1.510198            3.304744           -1.930318 -1.032951   \n",
       "1              -0.348869            0.663640            0.434342 -0.741120   \n",
       "2              -1.890248           -1.355038            2.010782 -0.202339   \n",
       "\n",
       "   est_inf_per_100k  \n",
       "0         -0.794194  \n",
       "1         -0.261846  \n",
       "2         -0.431888  "
      ]
     },
     "execution_count": 1762,
     "metadata": {},
     "output_type": "execute_result"
    }
   ],
   "source": [
    "# normalize the features using mean normalization\n",
    "df_gmd_and_infections_no_date_normalized = (df_gmd_and_infections_no_date - df_gmd_and_infections_no_date.mean())/df_gmd_and_infections_no_date.std()\n",
    "df_gmd_and_infections_no_date_normalized.head(3)"
   ]
  },
  {
   "cell_type": "code",
   "execution_count": 1763,
   "metadata": {},
   "outputs": [],
   "source": [
    "#setting the matrixes\n",
    "X = df_gmd_and_infections_no_date_normalized.iloc[:,0:7]\n",
    "ones = np.ones([X.shape[0],1])\n",
    "X = np.concatenate((ones,X),axis=1)\n",
    "\n",
    "y = df_gmd_and_infections_no_date_normalized.iloc[:,7:8].values #.values converts it from pandas.core.frame.DataFrame to numpy.ndarray\n",
    "theta = np.zeros([1,8])\n",
    "\n",
    "#set hyper parameters\n",
    "alpha = .3\n",
    "iters = 1000"
   ]
  },
  {
   "cell_type": "code",
   "execution_count": 1764,
   "metadata": {},
   "outputs": [],
   "source": [
    "def computeCost(X,y,theta):\n",
    "    tobesummed = np.power(((X @ theta.T)-y),2)\n",
    "    return np.sum(tobesummed)/(2 * len(X))"
   ]
  },
  {
   "cell_type": "code",
   "execution_count": 1765,
   "metadata": {},
   "outputs": [
    {
     "name": "stdout",
     "output_type": "stream",
     "text": [
      "[[-1.62786451e-16 -6.89032873e-01  1.32898544e-01 -3.60413846e-02\n",
      "   7.20842568e-02  9.71949022e-03 -5.73248849e-01  9.34716771e-01]]\n",
      "0.050932580264146286\n"
     ]
    }
   ],
   "source": [
    "def gradientDescent(X,y,theta,iters,alpha):\n",
    "    cost = np.zeros(iters)\n",
    "    for i in range(iters):\n",
    "        theta = theta - (alpha/len(X)) * np.sum(X * (X @ theta.T - y), axis=0)\n",
    "        cost[i] = computeCost(X, y, theta)\n",
    "    \n",
    "    return theta,cost\n",
    "\n",
    "#running the gd and cost function\n",
    "g,cost = gradientDescent(X,y,theta,iters,alpha)\n",
    "print(g)\n",
    "\n",
    "finalCost = computeCost(X,y,g)\n",
    "print(finalCost)"
   ]
  },
  {
   "cell_type": "code",
   "execution_count": 1766,
   "metadata": {},
   "outputs": [
    {
     "data": {
      "text/plain": [
       "Text(0.5, 1.0, 'Error vs. Training Epoch')"
      ]
     },
     "execution_count": 1766,
     "metadata": {},
     "output_type": "execute_result"
    },
    {
     "data": {
      "image/png": "[encoded data removed]",
      "text/plain": [
       "<Figure size 432x288 with 1 Axes>"
      ]
     },
     "metadata": {
      "needs_background": "light"
     },
     "output_type": "display_data"
    }
   ],
   "source": [
    "fig, ax = plt.subplots()  \n",
    "ax.plot(np.arange(iters), cost, 'r')  \n",
    "ax.set_xlabel('Iterations')  \n",
    "ax.set_ylabel('Cost')  \n",
    "ax.set_title('Error vs. Training Epoch')  "
   ]
  },
  {
   "cell_type": "code",
   "execution_count": 1767,
   "metadata": {},
   "outputs": [
    {
     "data": {
      "text/plain": [
       "['Wisconsin',\n",
       " -1.6278645098566353e-16,\n",
       " -0.6890328726149324,\n",
       " 0.1328985444243027,\n",
       " -0.03604138461204874,\n",
       " 0.072084256796132,\n",
       " 0.009719490220625541,\n",
       " -0.5732488491194949,\n",
       " 0.934716771234186]"
      ]
     },
     "execution_count": 1767,
     "metadata": {},
     "output_type": "execute_result"
    }
   ],
   "source": [
    "thetas_lst = g.tolist()[0]\n",
    "thetas_lst.insert(0,input_state)\n",
    "thetas_lst"
   ]
  },
  {
   "cell_type": "code",
   "execution_count": 1768,
   "metadata": {},
   "outputs": [],
   "source": [
    "columns=['state','y_intercept', 'theta_retail', 'theta_grocery',' theta_parks', 'theta_transit','theta_work','theta_home','theta_phi']\n",
    "theta_df = pd.DataFrame(columns=columns)"
   ]
  },
  {
   "cell_type": "code",
   "execution_count": 1769,
   "metadata": {},
   "outputs": [
    {
     "data": {
      "text/plain": [
       "{'state': 'Wisconsin',\n",
       " 'y_intercept': -1.6278645098566353e-16,\n",
       " 'theta_retail': -0.6890328726149324,\n",
       " 'theta_grocery': 0.1328985444243027,\n",
       " ' theta_parks': -0.03604138461204874,\n",
       " 'theta_transit': 0.072084256796132,\n",
       " 'theta_work': 0.009719490220625541,\n",
       " 'theta_home': -0.5732488491194949,\n",
       " 'theta_phi': 0.934716771234186}"
      ]
     },
     "execution_count": 1769,
     "metadata": {},
     "output_type": "execute_result"
    }
   ],
   "source": [
    "thetas_dict = dict(zip(columns, thetas_lst))\n",
    "thetas_dict"
   ]
  },
  {
   "cell_type": "code",
   "execution_count": 1770,
   "metadata": {},
   "outputs": [],
   "source": [
    "theta_df = theta_df.append(thetas_dict, ignore_index=True)"
   ]
  },
  {
   "cell_type": "code",
   "execution_count": 1771,
   "metadata": {},
   "outputs": [
    {
     "data": {
      "text/html": [
       "<div>\n",
       "<style scoped>\n",
       "    .dataframe tbody tr th:only-of-type {\n",
       "        vertical-align: middle;\n",
       "    }\n",
       "\n",
       "    .dataframe tbody tr th {\n",
       "        vertical-align: top;\n",
       "    }\n",
       "\n",
       "    .dataframe thead th {\n",
       "        text-align: right;\n",
       "    }\n",
       "</style>\n",
       "<table border=\"1\" class=\"dataframe\">\n",
       "  <thead>\n",
       "    <tr style=\"text-align: right;\">\n",
       "      <th></th>\n",
       "      <th>retail_weekly_change</th>\n",
       "      <th>grocery_weekly_change</th>\n",
       "      <th>parks_weekly_change</th>\n",
       "      <th>transit_weekly_change</th>\n",
       "      <th>work_weekly_change</th>\n",
       "      <th>home_weekly_change</th>\n",
       "      <th>phi</th>\n",
       "      <th>est_inf_per_100k</th>\n",
       "    </tr>\n",
       "  </thead>\n",
       "  <tbody>\n",
       "    <tr>\n",
       "      <td>0</td>\n",
       "      <td>32.0</td>\n",
       "      <td>94.0</td>\n",
       "      <td>211.0</td>\n",
       "      <td>20.0</td>\n",
       "      <td>11.0</td>\n",
       "      <td>5.0</td>\n",
       "      <td>0.000101</td>\n",
       "      <td>108.597195</td>\n",
       "    </tr>\n",
       "    <tr>\n",
       "      <td>1</td>\n",
       "      <td>-196.0</td>\n",
       "      <td>45.0</td>\n",
       "      <td>108.0</td>\n",
       "      <td>-138.0</td>\n",
       "      <td>-146.0</td>\n",
       "      <td>77.0</td>\n",
       "      <td>0.001086</td>\n",
       "      <td>290.445542</td>\n",
       "    </tr>\n",
       "    <tr>\n",
       "      <td>2</td>\n",
       "      <td>-345.0</td>\n",
       "      <td>-139.0</td>\n",
       "      <td>159.0</td>\n",
       "      <td>-269.0</td>\n",
       "      <td>-266.0</td>\n",
       "      <td>125.0</td>\n",
       "      <td>0.002904</td>\n",
       "      <td>232.359869</td>\n",
       "    </tr>\n",
       "  </tbody>\n",
       "</table>\n",
       "</div>"
      ],
      "text/plain": [
       "   retail_weekly_change  grocery_weekly_change  parks_weekly_change  \\\n",
       "0                  32.0                   94.0                211.0   \n",
       "1                -196.0                   45.0                108.0   \n",
       "2                -345.0                 -139.0                159.0   \n",
       "\n",
       "   transit_weekly_change  work_weekly_change  home_weekly_change       phi  \\\n",
       "0                   20.0                11.0                 5.0  0.000101   \n",
       "1                 -138.0              -146.0                77.0  0.001086   \n",
       "2                 -269.0              -266.0               125.0  0.002904   \n",
       "\n",
       "   est_inf_per_100k  \n",
       "0        108.597195  \n",
       "1        290.445542  \n",
       "2        232.359869  "
      ]
     },
     "execution_count": 1771,
     "metadata": {},
     "output_type": "execute_result"
    }
   ],
   "source": [
    "df_gmd_and_infections_no_date.head(3)"
   ]
  },
  {
   "cell_type": "code",
   "execution_count": 1772,
   "metadata": {},
   "outputs": [
    {
     "data": {
      "text/plain": [
       "'Wisconsin'"
      ]
     },
     "execution_count": 1772,
     "metadata": {},
     "output_type": "execute_result"
    }
   ],
   "source": [
    "input_state"
   ]
  },
  {
   "cell_type": "code",
   "execution_count": 1773,
   "metadata": {},
   "outputs": [],
   "source": [
    "columns = ['state','retail_weekly_change','grocery_weekly_change','parks_weekly_change','transit_weekly_change',\n",
    "           'work_weekly_change','home_weekly_change','phi','est_inf_per_100k']"
   ]
  },
  {
   "cell_type": "code",
   "execution_count": 1774,
   "metadata": {},
   "outputs": [
    {
     "data": {
      "text/html": [
       "<div>\n",
       "<style scoped>\n",
       "    .dataframe tbody tr th:only-of-type {\n",
       "        vertical-align: middle;\n",
       "    }\n",
       "\n",
       "    .dataframe tbody tr th {\n",
       "        vertical-align: top;\n",
       "    }\n",
       "\n",
       "    .dataframe thead th {\n",
       "        text-align: right;\n",
       "    }\n",
       "</style>\n",
       "<table border=\"1\" class=\"dataframe\">\n",
       "  <thead>\n",
       "    <tr style=\"text-align: right;\">\n",
       "      <th></th>\n",
       "      <th>state</th>\n",
       "      <th>retail_weekly_change</th>\n",
       "      <th>grocery_weekly_change</th>\n",
       "      <th>parks_weekly_change</th>\n",
       "      <th>transit_weekly_change</th>\n",
       "      <th>work_weekly_change</th>\n",
       "      <th>home_weekly_change</th>\n",
       "      <th>phi</th>\n",
       "      <th>est_inf_per_100k</th>\n",
       "    </tr>\n",
       "  </thead>\n",
       "  <tbody>\n",
       "    <tr>\n",
       "      <td>0</td>\n",
       "      <td>Wisconsin</td>\n",
       "      <td>-119.75</td>\n",
       "      <td>1.775</td>\n",
       "      <td>917.775</td>\n",
       "      <td>-108.35</td>\n",
       "      <td>-185.45</td>\n",
       "      <td>63.775</td>\n",
       "      <td>0.003587</td>\n",
       "      <td>379.891382</td>\n",
       "    </tr>\n",
       "  </tbody>\n",
       "</table>\n",
       "</div>"
      ],
      "text/plain": [
       "       state  retail_weekly_change  grocery_weekly_change  \\\n",
       "0  Wisconsin               -119.75                  1.775   \n",
       "\n",
       "   parks_weekly_change  transit_weekly_change  work_weekly_change  \\\n",
       "0              917.775                -108.35             -185.45   \n",
       "\n",
       "   home_weekly_change       phi  est_inf_per_100k  \n",
       "0              63.775  0.003587        379.891382  "
      ]
     },
     "execution_count": 1774,
     "metadata": {},
     "output_type": "execute_result"
    }
   ],
   "source": [
    "model_data_means_series = df_gmd_and_infections_no_date.mean(axis=0)\n",
    "model_data_means_lst = model_data_means_series.tolist()\n",
    "model_data_means_lst.insert(0,input_state)\n",
    "model_data_means_dic = dict(zip(columns,model_data_means_lst))\n",
    "df_model_means = pd.DataFrame(columns=columns)\n",
    "df_model_means.append(model_data_means_dic, ignore_index=True)"
   ]
  },
  {
   "cell_type": "code",
   "execution_count": 1775,
   "metadata": {},
   "outputs": [
    {
     "data": {
      "text/html": [
       "<div>\n",
       "<style scoped>\n",
       "    .dataframe tbody tr th:only-of-type {\n",
       "        vertical-align: middle;\n",
       "    }\n",
       "\n",
       "    .dataframe tbody tr th {\n",
       "        vertical-align: top;\n",
       "    }\n",
       "\n",
       "    .dataframe thead th {\n",
       "        text-align: right;\n",
       "    }\n",
       "</style>\n",
       "<table border=\"1\" class=\"dataframe\">\n",
       "  <thead>\n",
       "    <tr style=\"text-align: right;\">\n",
       "      <th></th>\n",
       "      <th>state</th>\n",
       "      <th>retail_weekly_change</th>\n",
       "      <th>grocery_weekly_change</th>\n",
       "      <th>parks_weekly_change</th>\n",
       "      <th>transit_weekly_change</th>\n",
       "      <th>work_weekly_change</th>\n",
       "      <th>home_weekly_change</th>\n",
       "      <th>phi</th>\n",
       "      <th>est_inf_per_100k</th>\n",
       "    </tr>\n",
       "  </thead>\n",
       "  <tbody>\n",
       "    <tr>\n",
       "      <td>0</td>\n",
       "      <td>Wisconsin</td>\n",
       "      <td>98.68228</td>\n",
       "      <td>61.52735</td>\n",
       "      <td>619.048504</td>\n",
       "      <td>84.988853</td>\n",
       "      <td>59.444846</td>\n",
       "      <td>30.448348</td>\n",
       "      <td>0.003375</td>\n",
       "      <td>341.597024</td>\n",
       "    </tr>\n",
       "  </tbody>\n",
       "</table>\n",
       "</div>"
      ],
      "text/plain": [
       "       state  retail_weekly_change  grocery_weekly_change  \\\n",
       "0  Wisconsin              98.68228               61.52735   \n",
       "\n",
       "   parks_weekly_change  transit_weekly_change  work_weekly_change  \\\n",
       "0           619.048504              84.988853           59.444846   \n",
       "\n",
       "   home_weekly_change       phi  est_inf_per_100k  \n",
       "0           30.448348  0.003375        341.597024  "
      ]
     },
     "execution_count": 1775,
     "metadata": {},
     "output_type": "execute_result"
    }
   ],
   "source": [
    "model_data_std_series = df_gmd_and_infections_no_date.std(axis=0)\n",
    "model_data_std_lst = model_data_std_series.tolist()\n",
    "model_data_std_lst.insert(0,input_state)\n",
    "model_data_std_dic = dict(zip(columns,model_data_std_lst))\n",
    "df_model_std = pd.DataFrame(columns=columns)\n",
    "df_model_std.append(model_data_std_dic, ignore_index=True)"
   ]
  },
  {
   "cell_type": "code",
   "execution_count": 1776,
   "metadata": {},
   "outputs": [],
   "source": [
    "# DF of the input features (GMD 0-6 and phi)\n",
    "test_df = pd.DataFrame(X[:,1:8])"
   ]
  },
  {
   "cell_type": "code",
   "execution_count": 1777,
   "metadata": {},
   "outputs": [
    {
     "data": {
      "text/plain": [
       "y_intercept     -1.62786e-16\n",
       "theta_retail       -0.689033\n",
       "theta_grocery       0.132899\n",
       " theta_parks      -0.0360414\n",
       "theta_transit      0.0720843\n",
       "theta_work        0.00971949\n",
       "theta_home         -0.573249\n",
       "theta_phi           0.934717\n",
       "Name: 0, dtype: object"
      ]
     },
     "execution_count": 1777,
     "metadata": {},
     "output_type": "execute_result"
    }
   ],
   "source": [
    "theta_df.iloc[0,1:9]"
   ]
  },
  {
   "cell_type": "code",
   "execution_count": 1778,
   "metadata": {},
   "outputs": [],
   "source": [
    "ones = np.ones([test_df.shape[0],1])\n",
    "test_df = np.concatenate((ones,test_df),axis=1)"
   ]
  },
  {
   "cell_type": "code",
   "execution_count": 1779,
   "metadata": {},
   "outputs": [
    {
     "data": {
      "text/html": [
       "<div>\n",
       "<style scoped>\n",
       "    .dataframe tbody tr th:only-of-type {\n",
       "        vertical-align: middle;\n",
       "    }\n",
       "\n",
       "    .dataframe tbody tr th {\n",
       "        vertical-align: top;\n",
       "    }\n",
       "\n",
       "    .dataframe thead th {\n",
       "        text-align: right;\n",
       "    }\n",
       "</style>\n",
       "<table border=\"1\" class=\"dataframe\">\n",
       "  <thead>\n",
       "    <tr style=\"text-align: right;\">\n",
       "      <th></th>\n",
       "      <th>0</th>\n",
       "      <th>1</th>\n",
       "      <th>2</th>\n",
       "      <th>3</th>\n",
       "      <th>4</th>\n",
       "      <th>5</th>\n",
       "      <th>6</th>\n",
       "      <th>7</th>\n",
       "    </tr>\n",
       "  </thead>\n",
       "  <tbody>\n",
       "    <tr>\n",
       "      <td>0</td>\n",
       "      <td>1.0</td>\n",
       "      <td>1.537763</td>\n",
       "      <td>1.498927</td>\n",
       "      <td>-1.141712</td>\n",
       "      <td>1.510198</td>\n",
       "      <td>3.304744</td>\n",
       "      <td>-1.930318</td>\n",
       "      <td>-1.032951</td>\n",
       "    </tr>\n",
       "    <tr>\n",
       "      <td>1</td>\n",
       "      <td>1.0</td>\n",
       "      <td>-0.772682</td>\n",
       "      <td>0.702533</td>\n",
       "      <td>-1.308096</td>\n",
       "      <td>-0.348869</td>\n",
       "      <td>0.663640</td>\n",
       "      <td>0.434342</td>\n",
       "      <td>-0.741120</td>\n",
       "    </tr>\n",
       "  </tbody>\n",
       "</table>\n",
       "</div>"
      ],
      "text/plain": [
       "     0         1         2         3         4         5         6         7\n",
       "0  1.0  1.537763  1.498927 -1.141712  1.510198  3.304744 -1.930318 -1.032951\n",
       "1  1.0 -0.772682  0.702533 -1.308096 -0.348869  0.663640  0.434342 -0.741120"
      ]
     },
     "execution_count": 1779,
     "metadata": {},
     "output_type": "execute_result"
    }
   ],
   "source": [
    "test_df = pd.DataFrame(test_df)\n",
    "test_df.head(2)"
   ]
  },
  {
   "cell_type": "code",
   "execution_count": 1780,
   "metadata": {},
   "outputs": [],
   "source": [
    "test1 = theta_df.iloc[0,1:9].to_numpy()"
   ]
  },
  {
   "cell_type": "code",
   "execution_count": 1781,
   "metadata": {},
   "outputs": [
    {
     "data": {
      "text/plain": [
       "numpy.ndarray"
      ]
     },
     "execution_count": 1781,
     "metadata": {},
     "output_type": "execute_result"
    }
   ],
   "source": [
    "type(test1)"
   ]
  },
  {
   "cell_type": "code",
   "execution_count": 1782,
   "metadata": {},
   "outputs": [
    {
     "name": "stdout",
     "output_type": "stream",
     "text": [
      "(40, 8)\n",
      "(8,)\n"
     ]
    }
   ],
   "source": [
    "print(test_df.shape)\n",
    "print(test1.shape)"
   ]
  },
  {
   "cell_type": "code",
   "execution_count": 1783,
   "metadata": {},
   "outputs": [],
   "source": [
    "hyp_df = pd.DataFrame(test_df.dot(test1))"
   ]
  },
  {
   "cell_type": "code",
   "execution_count": 1784,
   "metadata": {},
   "outputs": [
    {
     "data": {
      "text/html": [
       "<div>\n",
       "<style scoped>\n",
       "    .dataframe tbody tr th:only-of-type {\n",
       "        vertical-align: middle;\n",
       "    }\n",
       "\n",
       "    .dataframe tbody tr th {\n",
       "        vertical-align: top;\n",
       "    }\n",
       "\n",
       "    .dataframe thead th {\n",
       "        text-align: right;\n",
       "    }\n",
       "</style>\n",
       "<table border=\"1\" class=\"dataframe\">\n",
       "  <thead>\n",
       "    <tr style=\"text-align: right;\">\n",
       "      <th></th>\n",
       "      <th>0</th>\n",
       "    </tr>\n",
       "  </thead>\n",
       "  <tbody>\n",
       "    <tr>\n",
       "      <td>0</td>\n",
       "      <td>-0.537197</td>\n",
       "    </tr>\n",
       "    <tr>\n",
       "      <td>1</td>\n",
       "      <td>-0.287507</td>\n",
       "    </tr>\n",
       "  </tbody>\n",
       "</table>\n",
       "</div>"
      ],
      "text/plain": [
       "          0\n",
       "0 -0.537197\n",
       "1 -0.287507"
      ]
     },
     "execution_count": 1784,
     "metadata": {},
     "output_type": "execute_result"
    }
   ],
   "source": [
    "hyp_df.head(2)"
   ]
  },
  {
   "cell_type": "code",
   "execution_count": 1785,
   "metadata": {},
   "outputs": [],
   "source": [
    "hyp_df['y'] = y"
   ]
  },
  {
   "cell_type": "code",
   "execution_count": 1786,
   "metadata": {},
   "outputs": [
    {
     "data": {
      "text/plain": [
       "<matplotlib.collections.PathCollection at 0x7ffe80040b50>"
      ]
     },
     "execution_count": 1786,
     "metadata": {},
     "output_type": "execute_result"
    },
    {
     "data": {
      "image/png": "[encoded data removed]",
      "text/plain": [
       "<Figure size 432x288 with 1 Axes>"
      ]
     },
     "metadata": {
      "needs_background": "light"
     },
     "output_type": "display_data"
    }
   ],
   "source": [
    "plt.scatter(hyp_df.iloc[:,0], hyp_df.iloc[0:,1])"
   ]
  },
  {
   "cell_type": "code",
   "execution_count": 1787,
   "metadata": {},
   "outputs": [
    {
     "data": {
      "text/plain": [
       "<matplotlib.legend.Legend at 0x7ffe800eead0>"
      ]
     },
     "execution_count": 1787,
     "metadata": {},
     "output_type": "execute_result"
    },
    {
     "data": {
      "text/plain": [
       "<Figure size 432x288 with 0 Axes>"
      ]
     },
     "metadata": {},
     "output_type": "display_data"
    },
    {
     "data": {
      "image/png": "[encoded data removed]",
      "text/plain": [
       "<Figure size 432x288 with 1 Axes>"
      ]
     },
     "metadata": {
      "needs_background": "light"
     },
     "output_type": "display_data"
    }
   ],
   "source": [
    "plt.figure(); hyp_df.plot(); plt.legend(loc='best')"
   ]
  },
  {
   "cell_type": "code",
   "execution_count": null,
   "metadata": {},
   "outputs": [],
   "source": []
  },
  {
   "cell_type": "code",
   "execution_count": null,
   "metadata": {},
   "outputs": [],
   "source": []
  },
  {
   "cell_type": "code",
   "execution_count": null,
   "metadata": {},
   "outputs": [],
   "source": []
  },
  {
   "cell_type": "code",
   "execution_count": null,
   "metadata": {},
   "outputs": [],
   "source": []
  },
  {
   "cell_type": "code",
   "execution_count": 1788,
   "metadata": {},
   "outputs": [],
   "source": [
    "# df_gmd_and_infections_no_date_normalized = (df_gmd_and_infections_no_date - df_gmd_and_infections_no_date.mean())/df_gmd_and_infections_no_date.std()"
   ]
  }
 ],
 "metadata": {
  "kernelspec": {
   "display_name": "Python 3",
   "language": "python",
   "name": "python3"
  },
  "language_info": {
   "codemirror_mode": {
    "name": "ipython",
    "version": 3
   },
   "file_extension": ".py",
   "mimetype": "text/x-python",
   "name": "python",
   "nbconvert_exporter": "python",
   "pygments_lexer": "ipython3",
   "version": "3.7.4"
  }
 },
 "nbformat": 4,
 "nbformat_minor": 4
}
